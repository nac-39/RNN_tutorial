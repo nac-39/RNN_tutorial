{
 "cells": [
  {
   "cell_type": "markdown",
   "metadata": {
    "id": "Jkt5F2W9p-CN"
   },
   "source": [
    "# アニメの情報からカテゴリを予測する\n",
    "\n",
    "予測するのに使う情報\n",
    "- タイトル\n",
    "- 説明"
   ]
  },
  {
   "cell_type": "code",
   "execution_count": 269,
   "metadata": {},
   "outputs": [],
   "source": [
    "# GPUが使える場合は使う\n",
    "import torch \n",
    "\n",
    "if torch.cuda.is_available():\n",
    "    d_type = \"cuda:0\"\n",
    "else:\n",
    "    d_type = \"cpu\"\n",
    "\n",
    "device = torch.device(d_type)\n"
   ]
  },
  {
   "cell_type": "markdown",
   "metadata": {
    "id": "1dodQKca9xh4"
   },
   "source": [
    "\n",
    "\n",
    "データの準備\n",
    "==================\n",
    "\n",
    "Kaggleにデータがあったので、以下のコマンドでダウンロードする\n",
    "```bash\n",
    "kaggle datasets download -d dbdmobile/myanimelist-dataset\n",
    "```\n"
   ]
  },
  {
   "cell_type": "code",
   "execution_count": 270,
   "metadata": {
    "id": "EmYX_JPupzGf"
   },
   "outputs": [],
   "source": [
    "%matplotlib inline"
   ]
  },
  {
   "cell_type": "code",
   "execution_count": 271,
   "metadata": {
    "colab": {
     "base_uri": "https://localhost:8080/"
    },
    "id": "kcr5-oZtDTFW",
    "outputId": "b54ca03d-9a48-4f30-f39d-d77462e45997"
   },
   "outputs": [
    {
     "name": "stdout",
     "output_type": "stream",
     "text": [
      "/bin/bash: 0 行: [: `]'がありません\n"
     ]
    }
   ],
   "source": [
    "# カレントディレクトリにmyanimelist-dataset.zipがない場合はダウンロード\n",
    "![ ! -f ./myanimelist-dataset.zip] && kaggle datasets download -d dbdmobile/myanimelist-dataset"
   ]
  },
  {
   "cell_type": "code",
   "execution_count": 272,
   "metadata": {
    "colab": {
     "base_uri": "https://localhost:8080/"
    },
    "id": "gyT1FTmpDkjD",
    "outputId": "6b899ab3-4467-4a02-8744-6e2f421f2d5a"
   },
   "outputs": [
    {
     "name": "stdout",
     "output_type": "stream",
     "text": [
      "20240710_勉強会_RNN_演習.ipynb\t\t  all_losses.pth\t   rnn.pth\n",
      "20240710_勉強会_RNN_演習_人名2性別.ipynb  data\t\t\t   tutuorial\n",
      "__init__.py\t\t\t\t  myanimelist-dataset.zip\n"
     ]
    }
   ],
   "source": [
    "!ls # ダウンロードしたファイルがあるかどうか確認"
   ]
  },
  {
   "cell_type": "code",
   "execution_count": 273,
   "metadata": {
    "id": "6ICy7qf7D3IK"
   },
   "outputs": [],
   "source": [
    "# ダウンロードしたデータを解答\n",
    "import zipfile\n",
    "import os\n",
    "from pathlib import Path\n",
    "\n",
    "\n",
    "DATASET_PATH = \"data\"\n",
    "\n",
    "# すでにデータセットを格納するディレクトリがあるかどうか確認\n",
    "if not os.path.exists(DATASET_PATH):\n",
    "    os.mkdir(DATASET_PATH)\n",
    "\n",
    "# データを解凍\n",
    "if not os.path.exists(Path(DATASET_PATH, \"anime-dataset-2023.csv\").resolve()):\n",
    "  with zipfile.ZipFile('myanimelist-dataset.zip', 'r') as zip_ref:\n",
    "      zip_ref.extractall(DATASET_PATH)"
   ]
  },
  {
   "cell_type": "code",
   "execution_count": 274,
   "metadata": {
    "colab": {
     "base_uri": "https://localhost:8080/"
    },
    "id": "dEh8JIDfEsS_",
    "outputId": "7aec1b52-220a-45ec-d0ca-f46869497fd4"
   },
   "outputs": [
    {
     "name": "stdout",
     "output_type": "stream",
     "text": [
      "anime-dataset-2023.csv\tfinal_animedataset.csv\tusers-details-2023.csv\n",
      "anime-filtered.csv\tuser-filtered.csv\tusers-score-2023.csv\n"
     ]
    }
   ],
   "source": [
    "# データセットのファイル名を確認\n",
    "!ls data"
   ]
  },
  {
   "cell_type": "code",
   "execution_count": 275,
   "metadata": {
    "colab": {
     "base_uri": "https://localhost:8080/",
     "height": 759
    },
    "id": "MaCsOe1NpzGt",
    "outputId": "4916b7d9-ff99-4b98-cedb-08d255b590a0"
   },
   "outputs": [
    {
     "data": {
      "text/html": [
       "<div>\n",
       "<style scoped>\n",
       "    .dataframe tbody tr th:only-of-type {\n",
       "        vertical-align: middle;\n",
       "    }\n",
       "\n",
       "    .dataframe tbody tr th {\n",
       "        vertical-align: top;\n",
       "    }\n",
       "\n",
       "    .dataframe thead th {\n",
       "        text-align: right;\n",
       "    }\n",
       "</style>\n",
       "<table border=\"1\" class=\"dataframe\">\n",
       "  <thead>\n",
       "    <tr style=\"text-align: right;\">\n",
       "      <th></th>\n",
       "      <th>anime_id</th>\n",
       "      <th>Name</th>\n",
       "      <th>English name</th>\n",
       "      <th>Other name</th>\n",
       "      <th>Score</th>\n",
       "      <th>Genres</th>\n",
       "      <th>Synopsis</th>\n",
       "      <th>Type</th>\n",
       "      <th>Episodes</th>\n",
       "      <th>Aired</th>\n",
       "      <th>...</th>\n",
       "      <th>Studios</th>\n",
       "      <th>Source</th>\n",
       "      <th>Duration</th>\n",
       "      <th>Rating</th>\n",
       "      <th>Rank</th>\n",
       "      <th>Popularity</th>\n",
       "      <th>Favorites</th>\n",
       "      <th>Scored By</th>\n",
       "      <th>Members</th>\n",
       "      <th>Image URL</th>\n",
       "    </tr>\n",
       "  </thead>\n",
       "  <tbody>\n",
       "    <tr>\n",
       "      <th>0</th>\n",
       "      <td>1</td>\n",
       "      <td>Cowboy Bebop</td>\n",
       "      <td>Cowboy Bebop</td>\n",
       "      <td>カウボーイビバップ</td>\n",
       "      <td>8.75</td>\n",
       "      <td>Action, Award Winning, Sci-Fi</td>\n",
       "      <td>Crime is timeless. By the year 2071, humanity ...</td>\n",
       "      <td>TV</td>\n",
       "      <td>26.0</td>\n",
       "      <td>Apr 3, 1998 to Apr 24, 1999</td>\n",
       "      <td>...</td>\n",
       "      <td>Sunrise</td>\n",
       "      <td>Original</td>\n",
       "      <td>24 min per ep</td>\n",
       "      <td>R - 17+ (violence &amp; profanity)</td>\n",
       "      <td>41.0</td>\n",
       "      <td>43</td>\n",
       "      <td>78525</td>\n",
       "      <td>914193.0</td>\n",
       "      <td>1771505</td>\n",
       "      <td>https://cdn.myanimelist.net/images/anime/4/196...</td>\n",
       "    </tr>\n",
       "    <tr>\n",
       "      <th>1</th>\n",
       "      <td>5</td>\n",
       "      <td>Cowboy Bebop: Tengoku no Tobira</td>\n",
       "      <td>Cowboy Bebop: The Movie</td>\n",
       "      <td>カウボーイビバップ 天国の扉</td>\n",
       "      <td>8.38</td>\n",
       "      <td>Action, Sci-Fi</td>\n",
       "      <td>Another day, another bounty—such is the life o...</td>\n",
       "      <td>Movie</td>\n",
       "      <td>1.0</td>\n",
       "      <td>Sep 1, 2001</td>\n",
       "      <td>...</td>\n",
       "      <td>Bones</td>\n",
       "      <td>Original</td>\n",
       "      <td>1 hr 55 min</td>\n",
       "      <td>R - 17+ (violence &amp; profanity)</td>\n",
       "      <td>189.0</td>\n",
       "      <td>602</td>\n",
       "      <td>1448</td>\n",
       "      <td>206248.0</td>\n",
       "      <td>360978</td>\n",
       "      <td>https://cdn.myanimelist.net/images/anime/1439/...</td>\n",
       "    </tr>\n",
       "    <tr>\n",
       "      <th>2</th>\n",
       "      <td>6</td>\n",
       "      <td>Trigun</td>\n",
       "      <td>Trigun</td>\n",
       "      <td>トライガン</td>\n",
       "      <td>8.22</td>\n",
       "      <td>Action, Adventure, Sci-Fi</td>\n",
       "      <td>Vash the Stampede is the man with a $$60,000,0...</td>\n",
       "      <td>TV</td>\n",
       "      <td>26.0</td>\n",
       "      <td>Apr 1, 1998 to Sep 30, 1998</td>\n",
       "      <td>...</td>\n",
       "      <td>Madhouse</td>\n",
       "      <td>Manga</td>\n",
       "      <td>24 min per ep</td>\n",
       "      <td>PG-13 - Teens 13 or older</td>\n",
       "      <td>328.0</td>\n",
       "      <td>246</td>\n",
       "      <td>15035</td>\n",
       "      <td>356739.0</td>\n",
       "      <td>727252</td>\n",
       "      <td>https://cdn.myanimelist.net/images/anime/7/203...</td>\n",
       "    </tr>\n",
       "    <tr>\n",
       "      <th>3</th>\n",
       "      <td>7</td>\n",
       "      <td>Witch Hunter Robin</td>\n",
       "      <td>Witch Hunter Robin</td>\n",
       "      <td>Witch Hunter ROBIN (ウイッチハンターロビン)</td>\n",
       "      <td>7.25</td>\n",
       "      <td>Action, Drama, Mystery, Supernatural</td>\n",
       "      <td>Robin Sena is a powerful craft user drafted in...</td>\n",
       "      <td>TV</td>\n",
       "      <td>26.0</td>\n",
       "      <td>Jul 3, 2002 to Dec 25, 2002</td>\n",
       "      <td>...</td>\n",
       "      <td>Sunrise</td>\n",
       "      <td>Original</td>\n",
       "      <td>25 min per ep</td>\n",
       "      <td>PG-13 - Teens 13 or older</td>\n",
       "      <td>2764.0</td>\n",
       "      <td>1795</td>\n",
       "      <td>613</td>\n",
       "      <td>42829.0</td>\n",
       "      <td>111931</td>\n",
       "      <td>https://cdn.myanimelist.net/images/anime/10/19...</td>\n",
       "    </tr>\n",
       "    <tr>\n",
       "      <th>4</th>\n",
       "      <td>8</td>\n",
       "      <td>Bouken Ou Beet</td>\n",
       "      <td>Beet the Vandel Buster</td>\n",
       "      <td>冒険王ビィト</td>\n",
       "      <td>6.94</td>\n",
       "      <td>Adventure, Fantasy, Supernatural</td>\n",
       "      <td>It is the dark century and the people are suff...</td>\n",
       "      <td>TV</td>\n",
       "      <td>52.0</td>\n",
       "      <td>Sep 30, 2004 to Sep 29, 2005</td>\n",
       "      <td>...</td>\n",
       "      <td>Toei Animation</td>\n",
       "      <td>Manga</td>\n",
       "      <td>23 min per ep</td>\n",
       "      <td>PG - Children</td>\n",
       "      <td>4240.0</td>\n",
       "      <td>5126</td>\n",
       "      <td>14</td>\n",
       "      <td>6413.0</td>\n",
       "      <td>15001</td>\n",
       "      <td>https://cdn.myanimelist.net/images/anime/7/215...</td>\n",
       "    </tr>\n",
       "  </tbody>\n",
       "</table>\n",
       "<p>5 rows × 24 columns</p>\n",
       "</div>"
      ],
      "text/plain": [
       "   anime_id                             Name             English name  \\\n",
       "0         1                     Cowboy Bebop             Cowboy Bebop   \n",
       "1         5  Cowboy Bebop: Tengoku no Tobira  Cowboy Bebop: The Movie   \n",
       "2         6                           Trigun                   Trigun   \n",
       "3         7               Witch Hunter Robin       Witch Hunter Robin   \n",
       "4         8                   Bouken Ou Beet   Beet the Vandel Buster   \n",
       "\n",
       "                         Other name Score  \\\n",
       "0                         カウボーイビバップ  8.75   \n",
       "1                    カウボーイビバップ 天国の扉  8.38   \n",
       "2                             トライガン  8.22   \n",
       "3  Witch Hunter ROBIN (ウイッチハンターロビン)  7.25   \n",
       "4                            冒険王ビィト  6.94   \n",
       "\n",
       "                                 Genres  \\\n",
       "0         Action, Award Winning, Sci-Fi   \n",
       "1                        Action, Sci-Fi   \n",
       "2             Action, Adventure, Sci-Fi   \n",
       "3  Action, Drama, Mystery, Supernatural   \n",
       "4      Adventure, Fantasy, Supernatural   \n",
       "\n",
       "                                            Synopsis   Type Episodes  \\\n",
       "0  Crime is timeless. By the year 2071, humanity ...     TV     26.0   \n",
       "1  Another day, another bounty—such is the life o...  Movie      1.0   \n",
       "2  Vash the Stampede is the man with a $$60,000,0...     TV     26.0   \n",
       "3  Robin Sena is a powerful craft user drafted in...     TV     26.0   \n",
       "4  It is the dark century and the people are suff...     TV     52.0   \n",
       "\n",
       "                          Aired  ...         Studios    Source       Duration  \\\n",
       "0   Apr 3, 1998 to Apr 24, 1999  ...         Sunrise  Original  24 min per ep   \n",
       "1                   Sep 1, 2001  ...           Bones  Original    1 hr 55 min   \n",
       "2   Apr 1, 1998 to Sep 30, 1998  ...        Madhouse     Manga  24 min per ep   \n",
       "3   Jul 3, 2002 to Dec 25, 2002  ...         Sunrise  Original  25 min per ep   \n",
       "4  Sep 30, 2004 to Sep 29, 2005  ...  Toei Animation     Manga  23 min per ep   \n",
       "\n",
       "                           Rating    Rank Popularity Favorites Scored By  \\\n",
       "0  R - 17+ (violence & profanity)    41.0         43     78525  914193.0   \n",
       "1  R - 17+ (violence & profanity)   189.0        602      1448  206248.0   \n",
       "2       PG-13 - Teens 13 or older   328.0        246     15035  356739.0   \n",
       "3       PG-13 - Teens 13 or older  2764.0       1795       613   42829.0   \n",
       "4                   PG - Children  4240.0       5126        14    6413.0   \n",
       "\n",
       "   Members                                          Image URL  \n",
       "0  1771505  https://cdn.myanimelist.net/images/anime/4/196...  \n",
       "1   360978  https://cdn.myanimelist.net/images/anime/1439/...  \n",
       "2   727252  https://cdn.myanimelist.net/images/anime/7/203...  \n",
       "3   111931  https://cdn.myanimelist.net/images/anime/10/19...  \n",
       "4    15001  https://cdn.myanimelist.net/images/anime/7/215...  \n",
       "\n",
       "[5 rows x 24 columns]"
      ]
     },
     "execution_count": 275,
     "metadata": {},
     "output_type": "execute_result"
    }
   ],
   "source": [
    "# データを読み込む\n",
    "import pandas as pd\n",
    "from pathlib import Path\n",
    "\n",
    "anime = pd.read_csv(Path(DATASET_PATH, \"anime-dataset-2023.csv\").resolve())\n",
    "anime.dropna()\n",
    "# データを表示\n",
    "anime.head()"
   ]
  },
  {
   "cell_type": "code",
   "execution_count": 276,
   "metadata": {},
   "outputs": [],
   "source": [
    "import random\n",
    "\n",
    "\n",
    "def random_index(list_length):\n",
    "    return random.randint(0, list_length - 1)"
   ]
  },
  {
   "cell_type": "code",
   "execution_count": 277,
   "metadata": {
    "colab": {
     "base_uri": "https://localhost:8080/",
     "height": 206
    },
    "id": "l4uga_M-4onQ",
    "outputId": "83a15f0b-61ec-4e9b-c21c-78157b4d4738"
   },
   "outputs": [
    {
     "name": "stdout",
     "output_type": "stream",
     "text": [
      "English name    False\n",
      "Genres          False\n",
      "dtype: bool\n"
     ]
    },
    {
     "data": {
      "text/html": [
       "<div>\n",
       "<style scoped>\n",
       "    .dataframe tbody tr th:only-of-type {\n",
       "        vertical-align: middle;\n",
       "    }\n",
       "\n",
       "    .dataframe tbody tr th {\n",
       "        vertical-align: top;\n",
       "    }\n",
       "\n",
       "    .dataframe thead th {\n",
       "        text-align: right;\n",
       "    }\n",
       "</style>\n",
       "<table border=\"1\" class=\"dataframe\">\n",
       "  <thead>\n",
       "    <tr style=\"text-align: right;\">\n",
       "      <th></th>\n",
       "      <th>English name</th>\n",
       "      <th>Genres</th>\n",
       "    </tr>\n",
       "  </thead>\n",
       "  <tbody>\n",
       "    <tr>\n",
       "      <th>0</th>\n",
       "      <td>Cowboy Bebop</td>\n",
       "      <td>Action</td>\n",
       "    </tr>\n",
       "    <tr>\n",
       "      <th>1</th>\n",
       "      <td>Cowboy Bebop: The Movie</td>\n",
       "      <td>Action</td>\n",
       "    </tr>\n",
       "    <tr>\n",
       "      <th>2</th>\n",
       "      <td>Trigun</td>\n",
       "      <td>Sci-Fi</td>\n",
       "    </tr>\n",
       "    <tr>\n",
       "      <th>3</th>\n",
       "      <td>Witch Hunter Robin</td>\n",
       "      <td>Mystery</td>\n",
       "    </tr>\n",
       "    <tr>\n",
       "      <th>4</th>\n",
       "      <td>Beet the Vandel Buster</td>\n",
       "      <td>Supernatural</td>\n",
       "    </tr>\n",
       "  </tbody>\n",
       "</table>\n",
       "</div>"
      ],
      "text/plain": [
       "              English name        Genres\n",
       "0             Cowboy Bebop        Action\n",
       "1  Cowboy Bebop: The Movie        Action\n",
       "2                   Trigun        Sci-Fi\n",
       "3       Witch Hunter Robin       Mystery\n",
       "4   Beet the Vandel Buster  Supernatural"
      ]
     },
     "execution_count": 277,
     "metadata": {},
     "output_type": "execute_result"
    }
   ],
   "source": [
    "# 学習に使う列\n",
    "LEARN_COLUMN = \"English name\"\n",
    "# データを整形する\n",
    "anime = anime[[LEARN_COLUMN, \"Genres\"]]\n",
    "\n",
    "# ジャンルを最初の１つだけにする\n",
    "anime[\"Genres\"] = anime[\"Genres\"].apply(\n",
    "    lambda x: x.split(\", \")[random_index(len(x.split(\", \")))]\n",
    ")\n",
    "\n",
    "# UNKNWONが含まれるカラムを表示\n",
    "anime[anime[\"Genres\"].str.contains(\"UNKNOWN\")]\n",
    "\n",
    "# LEARN_COLUMNに UNKNOWNを含む行を削除\n",
    "anime = anime[~anime[LEARN_COLUMN].str.contains(\"UNKNOWN\")]\n",
    "print(anime.isnull().any())\n",
    "anime.head()"
   ]
  },
  {
   "cell_type": "code",
   "execution_count": null,
   "metadata": {},
   "outputs": [],
   "source": []
  },
  {
   "cell_type": "code",
   "execution_count": 278,
   "metadata": {
    "colab": {
     "base_uri": "https://localhost:8080/"
    },
    "id": "hob9d3dBJgK4",
    "outputId": "11519b2c-2306-4199-b198-e8a5fcbc4dbd"
   },
   "outputs": [
    {
     "name": "stdout",
     "output_type": "stream",
     "text": [
      "genres_list = ['Action', 'Sci-Fi', 'Mystery', 'Supernatural', 'Romance', 'Drama', 'Adventure', 'Sports', 'Gourmet', 'Fantasy', 'Comedy', 'Slice of Life', 'Ecchi', 'Award Winning', 'Suspense', 'Horror', 'Hentai', 'Girls Love', 'UNKNOWN', 'Avant Garde', 'Erotica', 'Boys Love']\n",
      "n_genres = 22\n"
     ]
    }
   ],
   "source": [
    "# データの数などの情報を取得\n",
    "genres_list = list(anime.Genres.str.split(\", \").explode().unique())\n",
    "print(f\"genres_list = {genres_list}\")\n",
    "\n",
    "n_genres = len(genres_list)\n",
    "print(f\"n_genres = {n_genres}\")"
   ]
  },
  {
   "cell_type": "code",
   "execution_count": 279,
   "metadata": {},
   "outputs": [
    {
     "data": {
      "image/png": "[encoded data removed]",
      "text/plain": [
       "<Figure size 2000x1000 with 1 Axes>"
      ]
     },
     "metadata": {},
     "output_type": "display_data"
    }
   ],
   "source": [
    "import matplotlib.pyplot as plt\n",
    "\n",
    "genre_dict = {name : 0 for name in genres_list}\n",
    "for genre in genres_list:\n",
    "    genre_dict[genre] = anime.Genres.str.contains(genre).astype(int).sum()\n",
    "\n",
    "# genre_dictを多い順にソートしたtuple\n",
    "sorted_genre_dict = sorted(genre_dict.items(), key=lambda x: x[1], reverse=True)\n",
    "# genre_dictをプロットする\n",
    "\n",
    "plt.figure(figsize=(20, 10))\n",
    "plt.bar(range(n_genres), [genre[1] for genre in sorted_genre_dict])\n",
    "plt.xticks(range(n_genres), [genre[0] for genre in sorted_genre_dict], rotation=90)\n",
    "plt.show()\n"
   ]
  },
  {
   "cell_type": "markdown",
   "metadata": {
    "id": "k5fT9KzopzG_"
   },
   "source": [
    "タイトルデータのテンソルへの変換\n",
    "--------------------------\n",
    "\n",
    "学習に使えるようにするため、タイトルデータをテンソルに変換します。\n",
    "\n"
   ]
  },
  {
   "cell_type": "markdown",
   "metadata": {
    "id": "wZyROtvY-Zh6"
   },
   "source": [
    "\n",
    "\n",
    "一つの文字は、`<1 x n_letters>`サイズの、 \"ワンホットベクトル \"を使って表現されます。\n",
    "\n",
    "ワンホットベクトルは、表現したい文字のインデックス（=位置）にのみ1が格納され、それ以外のインデックス（＝位置）は0で埋められたベクトルです。\n",
    "\n",
    "例えば、\"b\"という文字であれば、`\"b\" =<0 1 0 0 0 ...>`という形で表現します。\n",
    "\n",
    "（日本語訳注 ：\"b\"は、ローマ字では二番目の文字であるため、二番目のみ1でそれ以外は0のベクトルで表現されます。\"c\"なら、ローマ字の3番目なので、`\"c\" =<0 0 1 0 0 ...>`という形式で表現されます。）\n",
    "\n",
    "\n"
   ]
  },
  {
   "cell_type": "markdown",
   "metadata": {
    "id": "0fCHLObF-bpR"
   },
   "source": [
    "\n",
    "単語を作るためには、これらを2次元の行列 `<line_length x 1 x n_letters>` に結合します。\n",
    "\n",
    "（日本語訳注 ：例えば、\"abc\"という単語であれば、\n",
    "`\"abc\" =<1 0 0 0 0 ...>, <0 1 0 0 0 ...>, <0 0 1 0 0 ...>`のように表現されるイメージです。）\n",
    "\n",
    "<br>\n",
    "\n",
    "`line_length`と`n_letters`の間にある余分に見える1次元は、バッチサイズです。\n",
    "\n",
    "この次元は、PyTorchではデータをすべてバッチとして処理する仕様のため、必要となります。\n",
    "\n",
    "ここでは、バッチサイズは1としています。"
   ]
  },
  {
   "cell_type": "code",
   "execution_count": 280,
   "metadata": {
    "colab": {
     "base_uri": "https://localhost:8080/"
    },
    "id": "sgB2oy6vpzHB",
    "outputId": "862719ae-0754-4090-e2aa-3e568f668fa6"
   },
   "outputs": [
    {
     "name": "stdout",
     "output_type": "stream",
     "text": [
      "tensor([[0., 0., 0., 0., 0., 0., 0., 0., 0., 0., 0., 0., 0., 0., 0., 0., 0., 0.,\n",
      "         0., 0., 0., 0., 0., 0., 0., 0., 0., 0., 0., 0., 0., 0., 0., 0., 0., 1.,\n",
      "         0., 0., 0., 0., 0., 0., 0., 0., 0., 0., 0., 0., 0., 0., 0., 0., 0., 0.,\n",
      "         0., 0., 0.]], device='cuda:0')\n",
      "torch.Size([5, 1, 57])\n",
      "Cowboy Bebop\n",
      "torch.Size([12, 1, 57])\n"
     ]
    }
   ],
   "source": [
    "import string\n",
    "import torch\n",
    "\n",
    "all_letters = string.ascii_letters + \" .,;'\"\n",
    "n_letters = len(all_letters)\n",
    "\n",
    "# Find letter index from all_letters, e.g. \"a\" = 0\n",
    "def letterToIndex(letter):\n",
    "    return all_letters.find(letter)\n",
    "\n",
    "# Just for demonstration, turn a letter into a <1 x n_letters> Tensor\n",
    "def letterToTensor(letter):\n",
    "    tensor = torch.zeros(1, n_letters).to(device)\n",
    "    tensor[0][letterToIndex(letter)] = 1\n",
    "    return tensor\n",
    "\n",
    "# Turn a line into a <line_length x 1 x n_letters>,\n",
    "# or an array of one-hot letter vectors\n",
    "def lineToTensor(line):\n",
    "    tensor = torch.zeros(len(line), 1, n_letters).to(device)\n",
    "    for li, letter in enumerate(line):\n",
    "        tensor[li][0][letterToIndex(letter)] = 1\n",
    "    return tensor\n",
    "\n",
    "print(letterToTensor('J'))\n",
    "\n",
    "print(lineToTensor('Jones').size())\n",
    "\n",
    "print(anime[LEARN_COLUMN][0])\n",
    "print(lineToTensor(anime[LEARN_COLUMN][0]).size())"
   ]
  },
  {
   "cell_type": "markdown",
   "metadata": {},
   "source": [
    "## ネットワークの訓練"
   ]
  },
  {
   "cell_type": "code",
   "execution_count": 281,
   "metadata": {
    "id": "2fy_PUa-pzHJ"
   },
   "outputs": [],
   "source": [
    "import torch.nn as nn\n",
    "\n",
    "\n",
    "class RNN(nn.Module):\n",
    "    def __init__(self, input_size, hidden_size, output_size):\n",
    "        super(RNN, self).__init__()\n",
    "\n",
    "        self.hidden_size = hidden_size\n",
    "\n",
    "        self.i2h = nn.Linear(input_size + hidden_size, hidden_size)\n",
    "        self.i2o = nn.Linear(input_size + hidden_size, output_size)\n",
    "        self.softmax = nn.LogSoftmax(dim=1)\n",
    "\n",
    "    def forward(self, input, hidden):\n",
    "        combined = torch.cat((input, hidden), 1).to(device)\n",
    "        hidden = self.i2h(combined)\n",
    "        output = self.i2o(combined)\n",
    "        output = self.softmax(output)\n",
    "        return output, hidden\n",
    "\n",
    "    def initHidden(self):\n",
    "        return torch.zeros(1, self.hidden_size).to(device)\n",
    "\n",
    "\n",
    "n_hidden = 128\n",
    "rnn = RNN(n_letters, n_hidden, n_genres).to(device)"
   ]
  },
  {
   "cell_type": "markdown",
   "metadata": {
    "id": "7uh0DOOjpzHq"
   },
   "source": [
    "訓練\n",
    "========\n",
    "ヘルパー関数の定義"
   ]
  },
  {
   "cell_type": "code",
   "execution_count": 282,
   "metadata": {
    "colab": {
     "base_uri": "https://localhost:8080/"
    },
    "id": "DeAE-wVopzHs",
    "outputId": "18491a9f-3612-4018-b694-4d37d99b7d03"
   },
   "outputs": [],
   "source": [
    "def categoryFromOutput(output):\n",
    "    top_n, top_i = output.topk(1)\n",
    "    category_i = top_i[0].item()\n",
    "    return genres_list[category_i], category_i\n"
   ]
  },
  {
   "cell_type": "markdown",
   "metadata": {
    "id": "PBUXhu4OpzH0"
   },
   "source": [
    "また、訓練用にデータの具体例（苗字とその言語）を簡単に取得して、提示する関数もあると便利です。"
   ]
  },
  {
   "cell_type": "code",
   "execution_count": 283,
   "metadata": {
    "colab": {
     "base_uri": "https://localhost:8080/"
    },
    "id": "7C2GY2u1pzH1",
    "outputId": "8e6620f6-a828-4b0a-f6bc-00dbdf32905e"
   },
   "outputs": [
    {
     "name": "stdout",
     "output_type": "stream",
     "text": [
      "genre = Mystery / line = Ron Kamonohashi: Deranged Detective\n",
      "tensor(2, device='cuda:0')\n",
      "torch.Size([35, 1, 57])\n",
      "genre = Supernatural / line = Shaolin Wuzang\n",
      "tensor(3, device='cuda:0')\n",
      "torch.Size([14, 1, 57])\n",
      "genre = Romance / line = The Girl Downstairs\n",
      "tensor(4, device='cuda:0')\n",
      "torch.Size([19, 1, 57])\n",
      "genre = Suspense / line = Shadow Star Narutaru\n",
      "tensor(14, device='cuda:0')\n",
      "torch.Size([20, 1, 57])\n",
      "genre = Fantasy / line = Dragon Ball GT\n",
      "tensor(9, device='cuda:0')\n",
      "torch.Size([14, 1, 57])\n",
      "genre = Hentai / line = Nightmare Campus\n",
      "tensor(16, device='cuda:0')\n",
      "torch.Size([16, 1, 57])\n",
      "genre = Horror / line = Angels of Death\n",
      "tensor(15, device='cuda:0')\n",
      "torch.Size([15, 1, 57])\n",
      "genre = Supernatural / line = The Infinitors\n",
      "tensor(3, device='cuda:0')\n",
      "torch.Size([14, 1, 57])\n",
      "genre = UNKNOWN / line = Grass Elf\n",
      "tensor(18, device='cuda:0')\n",
      "torch.Size([9, 1, 57])\n",
      "genre = Romance / line = Tsubasa RESERVoir CHRoNiCLE Season Two\n",
      "tensor(4, device='cuda:0')\n",
      "torch.Size([38, 1, 57])\n"
     ]
    }
   ],
   "source": [
    "import random\n",
    "\n",
    "def randomChoice(l):\n",
    "    return l[random.randint(0, len(l) - 1)]\n",
    "\n",
    "def randomTrainingExample():\n",
    "    genre = randomChoice(genres_list)\n",
    "    anime_titles = anime[anime['Genres'].str.contains(genre, case=False)][LEARN_COLUMN]\n",
    "\n",
    "    line = randomChoice(anime_titles.to_list())\n",
    "    genre_tensor = torch.tensor(genres_list.index(genre), dtype=torch.long).to(device)\n",
    "    line_tensor = lineToTensor(line).to(device)\n",
    "    return genre, line, genre_tensor, line_tensor\n",
    "\n",
    "\n",
    "for i in range(10):\n",
    "    genre, line, genre_tensor, line_tensor = randomTrainingExample()\n",
    "    print('genre =', genre, '/ line =', line)\n",
    "    print(genre_tensor)\n",
    "    print(line_tensor.size())\n"
   ]
  },
  {
   "cell_type": "markdown",
   "metadata": {
    "id": "lZAeeCgwpzH9"
   },
   "source": [
    "ネットワークの訓練\n",
    "----------------------\n",
    "\n",
    "このネットワークの訓練に必要なプロセスは、多くの正解付きデータ（アノテーション付きの教師データ）を入力して推論させ、推論結果の良否をフィードバックすることです。\n",
    "\n",
    "RNNの最後の層は`nn.LogSoftmax`なので、対応する損失関数は`nn.NLLLoss`となります。"
   ]
  },
  {
   "cell_type": "code",
   "execution_count": 284,
   "metadata": {
    "id": "GNiw9irJpzH_"
   },
   "outputs": [],
   "source": [
    "criterion = nn.NLLLoss()"
   ]
  },
  {
   "cell_type": "code",
   "execution_count": 285,
   "metadata": {
    "id": "6b7olM4hpzII"
   },
   "outputs": [],
   "source": [
    "import torch.optim as optim\n",
    "from torch.nn.parameter import Parameter\n",
    "\n",
    "\n",
    "learning_rate = (\n",
    "    0.001  # If you set this too high, it might explode. If too low, it might not learn\n",
    ")\n",
    "\n",
    "# オプティマイザを定義（例：SGDオプティマイザ）\n",
    "optimizer = optim.SGD(rnn.parameters(), lr=learning_rate)\n",
    "\n",
    "# オプティマイザを定義（例：SGDオプティマイザ）\n",
    "\n",
    "\n",
    "def train(category_tensor, line_tensor):\n",
    "    hidden = rnn.initHidden()\n",
    "\n",
    "    rnn.zero_grad()\n",
    "\n",
    "    for i in range(line_tensor.size()[0]):\n",
    "        output, hidden = rnn(line_tensor[i], hidden)\n",
    "    category_tensor = (\n",
    "        category_tensor.view(1).type(torch.LongTensor).to(device)\n",
    "    )  # バッチサイズ1の整数型テンソルに変換\n",
    "\n",
    "    loss = criterion(output, category_tensor)\n",
    "    loss.backward()\n",
    "    torch.nn.utils.clip_grad_norm_(rnn.parameters(), max_norm=5.0)  # max_normの値を調整\n",
    "\n",
    "    # Add parameters' gradients to their values, multiplied by learning rate\n",
    "    # for p in rnn.parameters():\n",
    "    #     if p is None:\n",
    "    #         continue\n",
    "    #     elif not isinstance(p.data, Parameter):\n",
    "    #         continue\n",
    "    #     else:\n",
    "    #         p.data.add_(p.grad.data, alpha=-learning_rate)\n",
    "    # 勾配がNoneでないことを確認するデバッグ出力\n",
    "    # for p in rnn.parameters():\n",
    "    #     if p.grad is None:\n",
    "    #         print(f\"Parameter {p} has no gradient.\")\n",
    "    #     else:\n",
    "    #         print(f\"Parameter {p} gradient size: {p.grad.size()}\")\n",
    "\n",
    "    # オプティマイザでパラメータを更新する\n",
    "    optimizer.step()\n",
    "\n",
    "    return output, loss.item()"
   ]
  },
  {
   "cell_type": "code",
   "execution_count": 286,
   "metadata": {
    "colab": {
     "base_uri": "https://localhost:8080/",
     "height": 386
    },
    "id": "WtCdvYwEpzIX",
    "outputId": "92c9fd98-3f04-4dc8-bf71-95d663de5b72"
   },
   "outputs": [
    {
     "name": "stdout",
     "output_type": "stream",
     "text": [
      "5000 1.0% (0m 54s) norm: 3.2125163211606846 | 3.0867 My Life as Inukai-san’s Dog. OVA / Girls Love ✗ (Comedy)\n",
      "10000 2.0% (1m 47s) norm: 3.008225490530471 | 3.0810 Banana Fish / Slice of Life ✗ (Suspense)\n",
      "15000 3.0% (2m 40s) norm: 3.3174026055375343 | 3.0782 One Piece: Recapping Fierce Fights! Zoro vs. a Lead Performer! / Boys Love ✗ (Action)\n",
      "20000 4.0% (3m 33s) norm: 3.3458044167928946 | 3.0719 If My Favorite Pop Idol Made It to the Budokan, I Would Die / Erotica ✗ (Girls Love)\n",
      "25000 5.0% (4m 25s) norm: 3.225526451049408 | 3.0677 DIVE!! / Comedy ✗ (Sports)\n",
      "30000 6.0% (5m 21s) norm: 3.279553070828136 | 3.0646 Dream / Avant Garde ✗ (Award Winning)\n",
      "35000 7.000000000000001% (6m 16s) norm: 3.2525199915656096 | 3.0624 Martian Successor Nadesico: The Prince of Darkness / Hentai ✗ (Award Winning)\n",
      "40000 8.0% (7m 12s) norm: 3.152393253437797 | 3.0476 I'm Joybo 2nd Season / Horror ✗ (Drama)\n",
      "45000 9.0% (8m 8s) norm: 3.58733785675674 | 3.0501 The Island of Giant Insects Movie / Erotica ✗ (Horror)\n",
      "50000 10.0% (9m 2s) norm: 3.2304331218590825 | 3.0381 Mushi-shi: Next Passage Part 2 / Sports ✗ (Slice of Life)\n",
      "55000 11.0% (9m 57s) norm: 4.05152368692362 | 3.0284 Maria Watches Over Us Season 4 / Boys Love ✗ (Girls Love)\n",
      "60000 12.0% (10m 55s) norm: 3.8145061230836355 | 3.0375 The Lazy Egg / Gourmet ✓\n",
      "65000 13.0% (11m 52s) norm: 3.2204376676311988 | 3.0320 Speak Fruit / Romance ✗ (UNKNOWN)\n",
      "70000 14.000000000000002% (12m 43s) norm: 3.4406502869710707 | 3.0156 30,000 Miles From Chang'an / Horror ✗ (UNKNOWN)\n",
      "75000 15.0% (13m 35s) norm: 4.213323983307074 | 3.0123 Himekishi Lilia / Romance ✗ (Horror)\n",
      "80000 16.0% (14m 30s) norm: 4.018211247393243 | 2.9952 Inu-Oh / Boys Love ✗ (Award Winning)\n",
      "85000 17.0% (15m 24s) norm: 5.124227952411108 | 2.9956 Asteroid in Love / Erotica ✗ (Slice of Life)\n",
      "90000 18.0% (16m 20s) norm: 5.699835967454256 | 2.9570 Photodiary / Suspense ✗ (Avant Garde)\n",
      "95000 19.0% (17m 15s) norm: 7.730378015875662 | 2.9450 Miss Machiko / Award Winning ✗ (Ecchi)\n",
      "100000 20.0% (18m 10s) norm: 8.122315598752401 | 2.9286 Lolita Anime / Erotica ✗ (Hentai)\n",
      "105000 21.0% (19m 5s) norm: 24.99999775265946 | 2.9203 Love Slate / Erotica ✓\n",
      "110000 22.0% (20m 0s) norm: 15.188061160053536 | 2.8819 Promises / Hentai ✗ (Drama)\n",
      "115000 23.0% (20m 55s) norm: 24.99999106736545 | 2.8860 Untarou's Journey / UNKNOWN ✗ (Slice of Life)\n",
      "120000 24.0% (21m 51s) norm: 24.99999842806652 | 2.8760 The Story of Mr. Sorry / Adventure ✗ (Horror)\n",
      "125000 25.0% (22m 46s) norm: 24.99998941108303 | 2.9059 Lord of Lords Ryu Knight / Drama ✗ (Fantasy)\n",
      "130000 26.0% (23m 39s) norm: 24.99999198750457 | 2.8470 SANTA COMPANY ~Midsummer Merry Christmas~ / Sports ✗ (Fantasy)\n",
      "135000 27.0% (24m 31s) norm: 12.910242871721909 | 2.8619 Koukou / UNKNOWN ✓\n",
      "140000 28.000000000000004% (25m 24s) norm: 24.999987983806264 | 2.8533 Yukikaze / Suspense ✓\n",
      "145000 28.999999999999996% (26m 16s) norm: 24.99999103586723 | 2.8099 The Moment You Fall in Love / Drama ✗ (Romance)\n",
      "150000 30.0% (27m 9s) norm: 24.999994515000758 | 2.8388 Maria the Virgin Witch / Girls Love ✗ (Comedy)\n",
      "155000 31.0% (28m 3s) norm: 24.999997676721115 | 2.7656 Crystal Sky of Yesterday / Boys Love ✗ (Romance)\n",
      "160000 32.0% (28m 59s) norm: 23.957603538988568 | 2.8033 Conch Bay / Avant Garde ✗ (UNKNOWN)\n",
      "165000 33.0% (29m 54s) norm: 24.999999143216666 | 2.8204 Bleach the Movie: The DiamondDust Rebellion / Action ✓\n",
      "170000 34.0% (30m 50s) norm: 24.999995339119497 | 2.7815 The Red Flower / Drama ✗ (UNKNOWN)\n",
      "175000 35.0% (31m 44s) norm: 24.99999342941247 | 2.8410 Partner's Territory / Boys Love ✓\n",
      "180000 36.0% (32m 36s) norm: 25.000001122282384 | 2.7987 Even a Dad Still Wants It... / Romance ✗ (Boys Love)\n",
      "185000 37.0% (33m 28s) norm: 24.999996054195734 | 2.8772 Voice of Fox / Boys Love ✗ (UNKNOWN)\n",
      "190000 38.0% (34m 21s) norm: 15.557455232220807 | 2.7788 Momone / Avant Garde ✗ (Hentai)\n",
      "195000 39.0% (35m 13s) norm: 24.99999981140787 | 2.8493 Invaders of the Rokujyoma!? / Comedy ✗ (Supernatural)\n",
      "200000 40.0% (36m 5s) norm: 24.9999982293987 | 2.7607 Chobits: Hibiya and Kotoko Chat / Drama ✓\n",
      "205000 41.0% (36m 57s) norm: 24.99999880062786 | 2.7983 KADO: The Right Answer / Action ✗ (Sci-Fi)\n",
      "210000 42.0% (37m 49s) norm: 24.999998286968893 | 2.7853 Dropkick on My Devil!!: End of Century Edition / Action ✗ (Comedy)\n",
      "215000 43.0% (38m 40s) norm: 24.9999927366239 | 2.8075 Lunar Legend Tsukihime / Romance ✗ (Horror)\n",
      "220000 44.0% (39m 33s) norm: 8.332676064929819 | 2.7288 Love Slate / Erotica ✓\n",
      "225000 45.0% (40m 28s) norm: 25.000006757276168 | 2.7254 Ceres, Celestial Legend / Action ✗ (Suspense)\n",
      "230000 46.0% (41m 23s) norm: 24.999995881088715 | 2.7089 Prince of Tennis: A Day of the Survival Mountain / Horror ✗ (Sports)\n",
      "235000 47.0% (42m 19s) norm: 24.999990837546548 | 2.8035 Bernard / Suspense ✗ (Sports)\n",
      "240000 48.0% (43m 14s) norm: 24.99999006955605 | 2.7032 The Everyday Tales of a Cat God / Supernatural ✗ (Slice of Life)\n",
      "245000 49.0% (44m 7s) norm: 24.999997014060135 | 2.7052 Breathing of the Wind: Animation Correspondence / Comedy ✗ (Avant Garde)\n",
      "250000 50.0% (44m 59s) norm: 24.99999538787641 | 2.7824 Don Chuck Stories / Boys Love ✗ (Adventure)\n",
      "255000 51.0% (45m 56s) norm: 24.999996428010423 | 2.7414 Black Butler / Boys Love ✗ (Action)\n",
      "260000 52.0% (46m 52s) norm: 25.00000511135946 | 2.7463 Maze: The Mega-Burst Space - Hot Springs / Drama ✗ (Ecchi)\n",
      "265000 53.0% (47m 48s) norm: 25.000000577557937 | 2.7401 Transformers Cybertron / Slice of Life ✗ (Sci-Fi)\n",
      "270000 54.0% (48m 44s) norm: 24.999997313040556 | 2.7154 Paroru's Future Island / Suspense ✗ (Adventure)\n",
      "275000 55.00000000000001% (49m 39s) norm: 24.999989119686155 | 2.6871 Kämpfer / Girls Love ✓\n",
      "280000 56.00000000000001% (50m 35s) norm: 25.00000063415194 | 2.7191 The Stranger by the Shore / Erotica ✗ (Boys Love)\n",
      "285000 56.99999999999999% (51m 30s) norm: 24.99998895290649 | 2.7378 Kämpfer / Girls Love ✓\n",
      "290000 57.99999999999999% (52m 26s) norm: 24.99999375645503 | 2.7288 Berserk (2016) / Sports ✗ (Horror)\n",
      "295000 59.0% (53m 20s) norm: 24.99999892933653 | 2.7600 Fighting Spirit Special / Ecchi ✗ (Sports)\n",
      "300000 60.0% (54m 16s) norm: 24.999998080180653 | 2.7380 Fullmetal Alchemist: The Sacred Star of Milos PV / Adventure ✗ (Comedy)\n",
      "305000 61.0% (55m 11s) norm: 24.999995979368997 | 2.7269 Donten: Laughing Under the Clouds - Gaiden: Chapter 1 - One Year After the Battle / Comedy ✗ (Supernatural)\n",
      "310000 62.0% (56m 5s) norm: 24.99999392433773 | 2.7062 Kiki's Delivery Service / Action ✗ (Adventure)\n",
      "315000 63.0% (57m 1s) norm: 24.999994566801327 | 2.7249 Prima Doll / Slice of Life ✓\n",
      "320000 64.0% (57m 56s) norm: 24.999993224380834 | 2.6378 Kurozuka / UNKNOWN ✗ (Romance)\n",
      "325000 65.0% (58m 51s) norm: 24.99999274080346 | 2.7419 The Duke of Death and His Maid Season 2 / Action ✗ (Supernatural)\n",
      "330000 66.0% (59m 47s) norm: 24.999998348413676 | 2.7322 Junk Head 1 / Gourmet ✗ (Sci-Fi)\n",
      "335000 67.0% (60m 42s) norm: 24.99999758207951 | 2.7423 Genshiken 2 / Comedy ✓\n",
      "340000 68.0% (61m 36s) norm: 24.9999926666115 | 2.6772 Vivy -Fluorite Eye's Song- / Slice of Life ✗ (Action)\n",
      "345000 69.0% (62m 32s) norm: 24.999990157442657 | 2.7109 Horimiya: The Missing Pieces / Comedy ✗ (Romance)\n",
      "350000 70.0% (63m 28s) norm: 25.00000329308482 | 2.6605 Magia Record: Puella Magi Madoka Magica Side Story / Sci-Fi ✗ (Suspense)\n",
      "355000 71.0% (64m 25s) norm: 24.999986713062036 | 2.6819 Bridge / Suspense ✓\n",
      "360000 72.0% (65m 21s) norm: 24.999992985360223 | 2.6829 Love Hina / UNKNOWN ✗ (Ecchi)\n",
      "365000 73.0% (66m 16s) norm: 25.00000146128887 | 2.6974 Immoral Sisters: Blossoming / Adventure ✗ (Hentai)\n",
      "370000 74.0% (67m 11s) norm: 24.999995401829306 | 2.7137 The Warrior / UNKNOWN ✗ (Action)\n",
      "375000 75.0% (68m 5s) norm: 24.999995816323505 | 2.6390 Fist of the North Star: Raoh Side Story Fierce Fighting Arc / Adventure ✓\n",
      "380000 76.0% (69m 0s) norm: 24.999995424401575 | 2.6548 Kaidan / Avant Garde ✗ (Supernatural)\n",
      "385000 77.0% (69m 55s) norm: 24.999996830565042 | 2.6527 Annie's Magic Raccoon / Supernatural ✗ (Drama)\n",
      "390000 78.0% (70m 50s) norm: 24.99999957205043 | 2.6927 Ghost in the Shell: Stand Alone Complex - Solid State Society / Romance ✗ (Award Winning)\n",
      "395000 79.0% (71m 45s) norm: 24.999995633755763 | 2.6140 Basilisk / UNKNOWN ✗ (Romance)\n",
      "400000 80.0% (72m 40s) norm: 24.999991959676937 | 2.7159 A brightening life / Drama ✓\n",
      "405000 81.0% (73m 34s) norm: 25.0000011175339 | 2.6703 Sekai Ichi Hatsukoi - World's Greatest First Love / Sci-Fi ✗ (Boys Love)\n",
      "410000 82.0% (74m 28s) norm: 24.99999786151818 | 2.6536 The Anthem of the Heart / Sports ✗ (Romance)\n",
      "415000 83.0% (75m 23s) norm: 24.99999597934049 | 2.6002 Affair of Housewife Reiko / Sci-Fi ✗ (Hentai)\n",
      "420000 84.0% (76m 18s) norm: 5.022303438542251 | 2.5263 Maiden Rose / Erotica ✓\n",
      "425000 85.0% (77m 13s) norm: 24.999994414484366 | 2.5968 Babylon / Drama ✗ (Mystery)\n",
      "430000 86.0% (78m 8s) norm: 24.999994936446853 | 2.6063 Special 7: Special Crime Investigation Unit / Mystery ✓\n",
      "435000 87.0% (79m 2s) norm: 24.99999858613031 | 2.5712 Even a Dad Still Wants It... / Boys Love ✓\n",
      "440000 88.0% (79m 58s) norm: 8.820529670518074 | 2.6800 For / Avant Garde ✗ (UNKNOWN)\n",
      "445000 89.0% (80m 53s) norm: 25.00000166546511 | 2.6992 Doraemon the Movie 2018: Nobita's Treasure Island / Mystery ✗ (Adventure)\n",
      "450000 90.0% (81m 48s) norm: 25.000002259085008 | 2.6206 Tsubasa RESERVoir CHRoNiCLE Season Two / Sci-Fi ✗ (Romance)\n",
      "455000 91.0% (82m 44s) norm: 25.000001739286393 | 2.6802 David and Goliath / Supernatural ✗ (Adventure)\n",
      "460000 92.0% (83m 40s) norm: 0.6773072507242063 | 2.6245 Jungle of Desire / Erotica ✓\n",
      "465000 93.0% (84m 35s) norm: 24.999999154336226 | 2.6007 Scorched Bread / Boys Love ✗ (Gourmet)\n",
      "470000 94.0% (85m 32s) norm: 24.99999773677442 | 2.6304 Mayumi / Suspense ✓\n",
      "475000 95.0% (86m 27s) norm: 24.999994096293136 | 2.6098 No Game, No Life / Avant Garde ✗ (Fantasy)\n",
      "480000 96.0% (87m 22s) norm: 24.999999262006146 | 2.5617 Harem in the Labyrinth of Another World / Fantasy ✗ (Ecchi)\n",
      "485000 97.0% (88m 17s) norm: 15.84385798184547 | 2.5934 UzaMaid! / Girls Love ✓\n",
      "490000 98.0% (89m 12s) norm: 24.999996756377364 | 2.5648 Detective Conan: The Sunflowers of Inferno / Sci-Fi ✗ (Mystery)\n",
      "495000 99.0% (90m 7s) norm: 24.999993480276864 | 2.6522 The Legend of Dragon Soldier / Action ✓\n",
      "500000 100.0% (91m 3s) norm: 24.999993091655636 | 2.5890 Hot Spring Circle / Slice of Life ✗ (Hentai)\n"
     ]
    }
   ],
   "source": [
    "import torch\n",
    "import time\n",
    "import math\n",
    "import numpy as np\n",
    "\n",
    "# テスト用\n",
    "# n_iters = 1000\n",
    "# print_every = 100\n",
    "# plot_every = 100\n",
    "n_iters = 500000\n",
    "print_every = 5000\n",
    "plot_every = 1000\n",
    "\n",
    "\n",
    "# Keep track of losses for plotting\n",
    "\n",
    "\n",
    "def timeSince(since):\n",
    "    now = time.time()\n",
    "    s = now - since\n",
    "    m = math.floor(s / 60)\n",
    "    s -= m * 60\n",
    "    return \"%dm %ds\" % (m, s)\n",
    "\n",
    "\n",
    "start = time.time()\n",
    "\n",
    "\n",
    "def check_gradient_explosion(model, threshold=1e2):\n",
    "    total_norm = 0\n",
    "    for param in model.parameters():\n",
    "        if param.grad is not None:\n",
    "            grad_norm = param.grad.data.norm(2).item()\n",
    "            total_norm += grad_norm ** 2\n",
    "            if grad_norm > threshold:\n",
    "                return True, grad_norm, total_norm\n",
    "    return False, None, total_norm\n",
    "\n",
    "\n",
    "def train_model(retrain=False):\n",
    "    current_loss = 0\n",
    "    all_losses = []\n",
    "\n",
    "    # 訓練済みのモデルがあればそれを返す\n",
    "    if os.path.exists(\"rnn.pth\") and not retrain:\n",
    "        print(\"model exists\")\n",
    "        # モデルを保存\n",
    "        model = RNN(n_letters, n_hidden, n_genres).to(device)\n",
    "        model.load_state_dict(torch.load(\"rnn.pth\"))\n",
    "\n",
    "        # all_lossesを保存\n",
    "        all_losses = torch.load(\"all_losses.pth\")\n",
    "        return model, all_losses\n",
    "    for iter in range(1, n_iters + 1):\n",
    "        category, line, category_tensor, line_tensor = randomTrainingExample()\n",
    "\n",
    "        output, loss = train(category_tensor, line_tensor)\n",
    "        current_loss += loss\n",
    "\n",
    "        # 勾配爆発のチェック\n",
    "        exploded, grad_norm, total_norm = check_gradient_explosion(rnn)\n",
    "        if exploded:\n",
    "            print(\n",
    "                f\"Gradient explosion detected at epoch {iter}, gradient norm: {grad_norm}\"\n",
    "            )\n",
    "            break\n",
    "\n",
    "\n",
    "        if np.isnan(loss):\n",
    "            print(\"Loss is NaN.涙涙涙涙。。。。\")\n",
    "            print(f\"category = {category}\")\n",
    "            print(f\"line = {line}\")\n",
    "            print(f\"category_tensor = {category_tensor}\")\n",
    "            print(f\"line_tensor = {line_tensor}\")\n",
    "            raise ValueError(\"Loss is NaN.涙涙涙涙。。。。\")\n",
    "\n",
    "        # Print iter number, loss, name and guess\n",
    "        if iter % print_every == 0:\n",
    "            guess, guess_i = categoryFromOutput(output)\n",
    "            correct = \"✓\" if guess == category else \"✗ (%s)\" % category\n",
    "            average_loss = current_loss / plot_every\n",
    "            print(\n",
    "                f\"{iter} {iter / n_iters * 100}% ({timeSince(start)}) norm: {total_norm} | {average_loss:.4f} {line} / {guess} {correct}\"\n",
    "            )\n",
    "\n",
    "        # Add current loss avg to list of losses\n",
    "        if iter % plot_every == 0:\n",
    "            all_losses.append(current_loss / plot_every)\n",
    "            current_loss = 0\n",
    "    # 作成したモデルを保存\n",
    "    torch.save(rnn.state_dict(), \"rnn.pth\")\n",
    "    # all_lossesを保存\n",
    "    torch.save(all_losses, \"all_losses.pth\")\n",
    "    return rnn, all_losses\n",
    "\n",
    "\n",
    "trained_rnn, all_losses = train_model(retrain=True)"
   ]
  },
  {
   "cell_type": "markdown",
   "metadata": {
    "id": "hgyOvpDepzIe"
   },
   "source": [
    "結果のプロット\n",
    "--------------------\n",
    "\n",
    "`all_losses`から過去の損失をプロットすると、ネットワーク学習の様子がわかります"
   ]
  },
  {
   "cell_type": "code",
   "execution_count": 287,
   "metadata": {
    "colab": {
     "base_uri": "https://localhost:8080/",
     "height": 448
    },
    "id": "zFlvEC3UpzIg",
    "outputId": "433fb9d7-106b-4b21-e4c3-95362e57248c"
   },
   "outputs": [
    {
     "data": {
      "text/plain": [
       "[<matplotlib.lines.Line2D at 0x7fc972063430>]"
      ]
     },
     "execution_count": 287,
     "metadata": {},
     "output_type": "execute_result"
    },
    {
     "data": {
      "image/png": "[encoded data removed]",
      "text/plain": [
       "<Figure size 640x480 with 1 Axes>"
      ]
     },
     "metadata": {},
     "output_type": "display_data"
    }
   ],
   "source": [
    "import matplotlib.pyplot as plt\n",
    "import matplotlib.ticker as ticker\n",
    "\n",
    "plt.figure()\n",
    "plt.plot(all_losses)"
   ]
  },
  {
   "cell_type": "markdown",
   "metadata": {
    "id": "KMuLT7UJpzIl"
   },
   "source": [
    "結果の評価\n",
    "======================\n",
    "\n",
    "ネットワークが各カテゴリ（言語）に対して、どの程度の性能を発揮しているのかを確認するために、実際の言語（=行）ごとに、ネットワークの推論結果がどの言語だったのか（列）を示す、混同行列（confusion matrix）を作成します。\n",
    "\n",
    "混同行列を計算するために、`evaluate()`関数を用いて多くのサンプルを入力としてネットワークを実行しますが、この`evaluate()`関数は、逆伝播を実行しない`train()`関数と同義です。\n"
   ]
  },
  {
   "cell_type": "code",
   "execution_count": 288,
   "metadata": {},
   "outputs": [
    {
     "name": "stdout",
     "output_type": "stream",
     "text": [
      "1.26.4\n"
     ]
    }
   ],
   "source": [
    "import numpy as np\n",
    "# バージョン\n",
    "print(np.__version__)"
   ]
  },
  {
   "cell_type": "code",
   "execution_count": 289,
   "metadata": {
    "colab": {
     "base_uri": "https://localhost:8080/",
     "height": 579
    },
    "id": "NBQblphOpzIm",
    "outputId": "6b56434a-619d-40fe-8fc9-18d5bf5aad3e"
   },
   "outputs": [
    {
     "name": "stderr",
     "output_type": "stream",
     "text": [
      "/tmp/ipykernel_17784/766758957.py:33: UserWarning: set_ticklabels() should only be used with a fixed number of ticks, i.e. after set_ticks() or using a FixedLocator.\n",
      "  ax.set_xticklabels([''] + genres_list, rotation=90)\n",
      "/tmp/ipykernel_17784/766758957.py:34: UserWarning: set_ticklabels() should only be used with a fixed number of ticks, i.e. after set_ticks() or using a FixedLocator.\n",
      "  ax.set_yticklabels([''] + genres_list)\n"
     ]
    },
    {
     "data": {
      "image/png": "[encoded data removed]",
      "text/plain": [
       "<Figure size 640x480 with 2 Axes>"
      ]
     },
     "metadata": {},
     "output_type": "display_data"
    }
   ],
   "source": [
    "# Keep track of correct guesses in a confusion matrix\n",
    "confusion = torch.zeros(n_genres, n_genres).to(device)\n",
    "n_confusion = 10000\n",
    "\n",
    "# Just return an output given a line\n",
    "def evaluate(line_tensor):\n",
    "    hidden = trained_rnn.initHidden()\n",
    "\n",
    "    for i in range(line_tensor.size()[0]):\n",
    "        output, hidden = trained_rnn(line_tensor[i], hidden)\n",
    "\n",
    "    return output\n",
    "\n",
    "# Go through a bunch of examples and record which are correctly guessed\n",
    "for i in range(n_confusion):\n",
    "    category, line, category_tensor, line_tensor = randomTrainingExample()\n",
    "    output = evaluate(line_tensor)\n",
    "    guess, guess_i = categoryFromOutput(output)\n",
    "    category_i = genres_list.index(category)\n",
    "    confusion[category_i][guess_i] += 1\n",
    "\n",
    "# Normalize by dividing every row by its sum\n",
    "for i in range(n_genres):\n",
    "    confusion[i] = confusion[i] / confusion[i].sum()\n",
    "\n",
    "# Set up plot\n",
    "fig = plt.figure()\n",
    "ax = fig.add_subplot(111)\n",
    "cax = ax.matshow(confusion.cpu().numpy())\n",
    "fig.colorbar(cax)\n",
    "\n",
    "# Set up axes\n",
    "ax.set_xticklabels([''] + genres_list, rotation=90)\n",
    "ax.set_yticklabels([''] + genres_list)\n",
    "\n",
    "# Force label at every tick\n",
    "ax.xaxis.set_major_locator(ticker.MultipleLocator(1))\n",
    "ax.yaxis.set_major_locator(ticker.MultipleLocator(1))\n",
    "\n",
    "# sphinx_gallery_thumbnail_number = 2\n",
    "plt.show()"
   ]
  },
  {
   "cell_type": "markdown",
   "metadata": {
    "id": "Vtqgpbi_pzIu"
   },
   "source": [
    "斜めの軸の点の明るさから、どの言語で推測結果に間違いが多いか分かります\n",
    "\n",
    "（日本語訳注：点が暗いほどその言語に対する予測結果は間違いが多く、明るいほど正解が多いことを示しています）。\n",
    "\n",
    "例えば、ギリシャ語では非常に良く、英語では非常に悪いようです（これはおそらく、英語の苗字は他の言語との重複が多いためでしょう）。"
   ]
  },
  {
   "cell_type": "markdown",
   "metadata": {
    "id": "kiw-xW2cpzIw"
   },
   "source": [
    "ユーザーが入力した苗字に対する推論実行\n",
    "---------------------\n",
    "\n",
    "\n"
   ]
  },
  {
   "cell_type": "code",
   "execution_count": 290,
   "metadata": {
    "colab": {
     "base_uri": "https://localhost:8080/"
    },
    "id": "dRX3HAOPpzIz",
    "outputId": "6e8e6232-f4fd-41fc-887e-658db06b368b"
   },
   "outputs": [],
   "source": [
    "def predict(input_line, n_predictions=3):\n",
    "    print(\"\\n> %s\" % input_line)\n",
    "    with torch.no_grad():\n",
    "        output = evaluate(lineToTensor(input_line))\n",
    "\n",
    "        # Get top N categories\n",
    "        topv, topi = output.topk(n_predictions, 1, True)\n",
    "        predictions = []\n",
    "\n",
    "        for i in range(n_predictions):\n",
    "            value = topv[0][i].item()\n",
    "            category_index = topi[0][i].item()\n",
    "            print(\"(%.2f) %s\" % (value, genres_list[category_index]))\n",
    "            predictions.append([value, genres_list[category_index]])"
   ]
  },
  {
   "cell_type": "code",
   "execution_count": 295,
   "metadata": {
    "colab": {
     "base_uri": "https://localhost:8080/"
    },
    "id": "Mu565CeSDOl0",
    "outputId": "06a51a48-16bc-4386-8c17-4822d2f751cf"
   },
   "outputs": [
    {
     "name": "stdout",
     "output_type": "stream",
     "text": [
      "\n",
      "> Alice in Wonderland\n",
      "(-2.25) Sports\n",
      "(-2.32) Suspense\n",
      "(-2.33) Fantasy\n",
      "\n",
      "> Hero\n",
      "(-1.89) UNKNOWN\n",
      "(-1.93) Avant Garde\n",
      "(-2.40) Horror\n"
     ]
    }
   ],
   "source": [
    "# 日本語訳追記：[1] 上記の結果は実行の度に変わります。[2] 今回は検証のデータセットを用意していないので、過学習する恐れがあります。\n",
    "\n",
    "# 田中で試す\n",
    "predict(\"Alice in Wonderland\")\n",
    "predict(\"Hero\")"
   ]
  }
 ],
 "metadata": {
  "colab": {
   "provenance": []
  },
  "kernelspec": {
   "display_name": "test_venv",
   "language": "python",
   "name": "test_venv"
  },
  "language_info": {
   "codemirror_mode": {
    "name": "ipython",
    "version": 3
   },
   "file_extension": ".py",
   "mimetype": "text/x-python",
   "name": "python",
   "nbconvert_exporter": "python",
   "pygments_lexer": "ipython3",
   "version": "3.9.19"
  }
 },
 "nbformat": 4,
 "nbformat_minor": 0
}
