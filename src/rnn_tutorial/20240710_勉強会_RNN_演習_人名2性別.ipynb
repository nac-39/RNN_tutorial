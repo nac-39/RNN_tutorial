{
  "cells": [
    {
      "cell_type": "markdown",
      "metadata": {
        "id": "Jkt5F2W9p-CN"
      },
      "source": [
        "# アニメの情報からカテゴリを予測する\n",
        "\n",
        "予測するのに使う情報\n",
        "- タイトル\n",
        "- 説明"
      ]
    },
    {
      "cell_type": "code",
      "execution_count": 250,
      "metadata": {},
      "outputs": [],
      "source": [
        "# GPUが使える場合は使う\n",
        "import torch \n",
        "\n",
        "if torch.cuda.is_available():\n",
        "    d_type = \"cuda:0\"\n",
        "else:\n",
        "    d_type = \"cpu\"\n",
        "\n",
        "device = torch.device(d_type)\n"
      ]
    },
    {
      "cell_type": "markdown",
      "metadata": {
        "id": "1dodQKca9xh4"
      },
      "source": [
        "\n",
        "\n",
        "データの準備\n",
        "==================\n",
        "\n",
        "Kaggleにデータがあったので、以下のコマンドでダウンロードする\n",
        "```bash\n",
        "kaggle datasets download -d dbdmobile/myanimelist-dataset\n",
        "```\n"
      ]
    },
    {
      "cell_type": "code",
      "execution_count": 251,
      "metadata": {
        "id": "EmYX_JPupzGf"
      },
      "outputs": [],
      "source": [
        "%matplotlib inline"
      ]
    },
    {
      "cell_type": "code",
      "execution_count": 252,
      "metadata": {
        "colab": {
          "base_uri": "https://localhost:8080/"
        },
        "id": "kcr5-oZtDTFW",
        "outputId": "b54ca03d-9a48-4f30-f39d-d77462e45997"
      },
      "outputs": [
        {
          "name": "stdout",
          "output_type": "stream",
          "text": [
            "Dataset URL: https://www.kaggle.com/datasets/dbdmobile/myanimelist-dataset\n",
            "License(s): DbCL-1.0\n",
            "myanimelist-dataset.zip: Skipping, found more recently modified local copy (use --force to force download)\n"
          ]
        }
      ],
      "source": [
        "# データセットのダウンロード\n",
        "!kaggle datasets download -d dbdmobile/myanimelist-dataset"
      ]
    },
    {
      "cell_type": "code",
      "execution_count": 253,
      "metadata": {
        "colab": {
          "base_uri": "https://localhost:8080/"
        },
        "id": "gyT1FTmpDkjD",
        "outputId": "6b899ab3-4467-4a02-8744-6e2f421f2d5a"
      },
      "outputs": [
        {
          "name": "stdout",
          "output_type": "stream",
          "text": [
            "README.md\tline_tensor.pt\t\t requirements.lock  src\n",
            "all_losses.pth\tmyanimelist-dataset.zip  rnn.pth\n",
            "data\t\tpyproject.toml\t\t rnn_Name.pth\n",
            "data.zip\trequirements-dev.lock\t sample_list.pt\n"
          ]
        }
      ],
      "source": [
        "!ls # ダウンロードしたファイルがあるかどうか確認"
      ]
    },
    {
      "cell_type": "code",
      "execution_count": 254,
      "metadata": {
        "id": "6ICy7qf7D3IK"
      },
      "outputs": [],
      "source": [
        "# ダウンロードしたデータを解答\n",
        "import zipfile\n",
        "import os\n",
        "from pathlib import Path\n",
        "\n",
        "\n",
        "DATASET_PATH = \"data\"\n",
        "\n",
        "# すでにデータセットを格納するディレクトリがあるかどうか確認\n",
        "if not os.path.exists(DATASET_PATH):\n",
        "    os.mkdir(DATASET_PATH)\n",
        "\n",
        "# データを解凍\n",
        "if not os.path.exists(Path(DATASET_PATH, \"anime-dataset-2023.csv\").resolve()):\n",
        "  with zipfile.ZipFile('myanimelist-dataset.zip', 'r') as zip_ref:\n",
        "      zip_ref.extractall(DATASET_PATH)"
      ]
    },
    {
      "cell_type": "code",
      "execution_count": 255,
      "metadata": {
        "colab": {
          "base_uri": "https://localhost:8080/"
        },
        "id": "dEh8JIDfEsS_",
        "outputId": "7aec1b52-220a-45ec-d0ca-f46869497fd4"
      },
      "outputs": [
        {
          "name": "stdout",
          "output_type": "stream",
          "text": [
            "anime-dataset-2023.csv\tfinal_animedataset.csv\tusers-details-2023.csv\n",
            "anime-filtered.csv\tnames\t\t\tusers-score-2023.csv\n",
            "eng-fra.txt\t\tuser-filtered.csv\n"
          ]
        }
      ],
      "source": [
        "# データセットのファイル名を確認\n",
        "!ls data"
      ]
    },
    {
      "cell_type": "code",
      "execution_count": 256,
      "metadata": {
        "colab": {
          "base_uri": "https://localhost:8080/",
          "height": 759
        },
        "id": "MaCsOe1NpzGt",
        "outputId": "4916b7d9-ff99-4b98-cedb-08d255b590a0"
      },
      "outputs": [
        {
          "data": {
            "text/html": [
              "<div>\n",
              "<style scoped>\n",
              "    .dataframe tbody tr th:only-of-type {\n",
              "        vertical-align: middle;\n",
              "    }\n",
              "\n",
              "    .dataframe tbody tr th {\n",
              "        vertical-align: top;\n",
              "    }\n",
              "\n",
              "    .dataframe thead th {\n",
              "        text-align: right;\n",
              "    }\n",
              "</style>\n",
              "<table border=\"1\" class=\"dataframe\">\n",
              "  <thead>\n",
              "    <tr style=\"text-align: right;\">\n",
              "      <th></th>\n",
              "      <th>anime_id</th>\n",
              "      <th>Name</th>\n",
              "      <th>English name</th>\n",
              "      <th>Other name</th>\n",
              "      <th>Score</th>\n",
              "      <th>Genres</th>\n",
              "      <th>Synopsis</th>\n",
              "      <th>Type</th>\n",
              "      <th>Episodes</th>\n",
              "      <th>Aired</th>\n",
              "      <th>...</th>\n",
              "      <th>Studios</th>\n",
              "      <th>Source</th>\n",
              "      <th>Duration</th>\n",
              "      <th>Rating</th>\n",
              "      <th>Rank</th>\n",
              "      <th>Popularity</th>\n",
              "      <th>Favorites</th>\n",
              "      <th>Scored By</th>\n",
              "      <th>Members</th>\n",
              "      <th>Image URL</th>\n",
              "    </tr>\n",
              "  </thead>\n",
              "  <tbody>\n",
              "    <tr>\n",
              "      <th>0</th>\n",
              "      <td>1</td>\n",
              "      <td>Cowboy Bebop</td>\n",
              "      <td>Cowboy Bebop</td>\n",
              "      <td>カウボーイビバップ</td>\n",
              "      <td>8.75</td>\n",
              "      <td>Action, Award Winning, Sci-Fi</td>\n",
              "      <td>Crime is timeless. By the year 2071, humanity ...</td>\n",
              "      <td>TV</td>\n",
              "      <td>26.0</td>\n",
              "      <td>Apr 3, 1998 to Apr 24, 1999</td>\n",
              "      <td>...</td>\n",
              "      <td>Sunrise</td>\n",
              "      <td>Original</td>\n",
              "      <td>24 min per ep</td>\n",
              "      <td>R - 17+ (violence &amp; profanity)</td>\n",
              "      <td>41.0</td>\n",
              "      <td>43</td>\n",
              "      <td>78525</td>\n",
              "      <td>914193.0</td>\n",
              "      <td>1771505</td>\n",
              "      <td>https://cdn.myanimelist.net/images/anime/4/196...</td>\n",
              "    </tr>\n",
              "    <tr>\n",
              "      <th>1</th>\n",
              "      <td>5</td>\n",
              "      <td>Cowboy Bebop: Tengoku no Tobira</td>\n",
              "      <td>Cowboy Bebop: The Movie</td>\n",
              "      <td>カウボーイビバップ 天国の扉</td>\n",
              "      <td>8.38</td>\n",
              "      <td>Action, Sci-Fi</td>\n",
              "      <td>Another day, another bounty—such is the life o...</td>\n",
              "      <td>Movie</td>\n",
              "      <td>1.0</td>\n",
              "      <td>Sep 1, 2001</td>\n",
              "      <td>...</td>\n",
              "      <td>Bones</td>\n",
              "      <td>Original</td>\n",
              "      <td>1 hr 55 min</td>\n",
              "      <td>R - 17+ (violence &amp; profanity)</td>\n",
              "      <td>189.0</td>\n",
              "      <td>602</td>\n",
              "      <td>1448</td>\n",
              "      <td>206248.0</td>\n",
              "      <td>360978</td>\n",
              "      <td>https://cdn.myanimelist.net/images/anime/1439/...</td>\n",
              "    </tr>\n",
              "    <tr>\n",
              "      <th>2</th>\n",
              "      <td>6</td>\n",
              "      <td>Trigun</td>\n",
              "      <td>Trigun</td>\n",
              "      <td>トライガン</td>\n",
              "      <td>8.22</td>\n",
              "      <td>Action, Adventure, Sci-Fi</td>\n",
              "      <td>Vash the Stampede is the man with a $$60,000,0...</td>\n",
              "      <td>TV</td>\n",
              "      <td>26.0</td>\n",
              "      <td>Apr 1, 1998 to Sep 30, 1998</td>\n",
              "      <td>...</td>\n",
              "      <td>Madhouse</td>\n",
              "      <td>Manga</td>\n",
              "      <td>24 min per ep</td>\n",
              "      <td>PG-13 - Teens 13 or older</td>\n",
              "      <td>328.0</td>\n",
              "      <td>246</td>\n",
              "      <td>15035</td>\n",
              "      <td>356739.0</td>\n",
              "      <td>727252</td>\n",
              "      <td>https://cdn.myanimelist.net/images/anime/7/203...</td>\n",
              "    </tr>\n",
              "    <tr>\n",
              "      <th>3</th>\n",
              "      <td>7</td>\n",
              "      <td>Witch Hunter Robin</td>\n",
              "      <td>Witch Hunter Robin</td>\n",
              "      <td>Witch Hunter ROBIN (ウイッチハンターロビン)</td>\n",
              "      <td>7.25</td>\n",
              "      <td>Action, Drama, Mystery, Supernatural</td>\n",
              "      <td>Robin Sena is a powerful craft user drafted in...</td>\n",
              "      <td>TV</td>\n",
              "      <td>26.0</td>\n",
              "      <td>Jul 3, 2002 to Dec 25, 2002</td>\n",
              "      <td>...</td>\n",
              "      <td>Sunrise</td>\n",
              "      <td>Original</td>\n",
              "      <td>25 min per ep</td>\n",
              "      <td>PG-13 - Teens 13 or older</td>\n",
              "      <td>2764.0</td>\n",
              "      <td>1795</td>\n",
              "      <td>613</td>\n",
              "      <td>42829.0</td>\n",
              "      <td>111931</td>\n",
              "      <td>https://cdn.myanimelist.net/images/anime/10/19...</td>\n",
              "    </tr>\n",
              "    <tr>\n",
              "      <th>4</th>\n",
              "      <td>8</td>\n",
              "      <td>Bouken Ou Beet</td>\n",
              "      <td>Beet the Vandel Buster</td>\n",
              "      <td>冒険王ビィト</td>\n",
              "      <td>6.94</td>\n",
              "      <td>Adventure, Fantasy, Supernatural</td>\n",
              "      <td>It is the dark century and the people are suff...</td>\n",
              "      <td>TV</td>\n",
              "      <td>52.0</td>\n",
              "      <td>Sep 30, 2004 to Sep 29, 2005</td>\n",
              "      <td>...</td>\n",
              "      <td>Toei Animation</td>\n",
              "      <td>Manga</td>\n",
              "      <td>23 min per ep</td>\n",
              "      <td>PG - Children</td>\n",
              "      <td>4240.0</td>\n",
              "      <td>5126</td>\n",
              "      <td>14</td>\n",
              "      <td>6413.0</td>\n",
              "      <td>15001</td>\n",
              "      <td>https://cdn.myanimelist.net/images/anime/7/215...</td>\n",
              "    </tr>\n",
              "  </tbody>\n",
              "</table>\n",
              "<p>5 rows × 24 columns</p>\n",
              "</div>"
            ],
            "text/plain": [
              "   anime_id                             Name             English name  \\\n",
              "0         1                     Cowboy Bebop             Cowboy Bebop   \n",
              "1         5  Cowboy Bebop: Tengoku no Tobira  Cowboy Bebop: The Movie   \n",
              "2         6                           Trigun                   Trigun   \n",
              "3         7               Witch Hunter Robin       Witch Hunter Robin   \n",
              "4         8                   Bouken Ou Beet   Beet the Vandel Buster   \n",
              "\n",
              "                         Other name Score  \\\n",
              "0                         カウボーイビバップ  8.75   \n",
              "1                    カウボーイビバップ 天国の扉  8.38   \n",
              "2                             トライガン  8.22   \n",
              "3  Witch Hunter ROBIN (ウイッチハンターロビン)  7.25   \n",
              "4                            冒険王ビィト  6.94   \n",
              "\n",
              "                                 Genres  \\\n",
              "0         Action, Award Winning, Sci-Fi   \n",
              "1                        Action, Sci-Fi   \n",
              "2             Action, Adventure, Sci-Fi   \n",
              "3  Action, Drama, Mystery, Supernatural   \n",
              "4      Adventure, Fantasy, Supernatural   \n",
              "\n",
              "                                            Synopsis   Type Episodes  \\\n",
              "0  Crime is timeless. By the year 2071, humanity ...     TV     26.0   \n",
              "1  Another day, another bounty—such is the life o...  Movie      1.0   \n",
              "2  Vash the Stampede is the man with a $$60,000,0...     TV     26.0   \n",
              "3  Robin Sena is a powerful craft user drafted in...     TV     26.0   \n",
              "4  It is the dark century and the people are suff...     TV     52.0   \n",
              "\n",
              "                          Aired  ...         Studios    Source       Duration  \\\n",
              "0   Apr 3, 1998 to Apr 24, 1999  ...         Sunrise  Original  24 min per ep   \n",
              "1                   Sep 1, 2001  ...           Bones  Original    1 hr 55 min   \n",
              "2   Apr 1, 1998 to Sep 30, 1998  ...        Madhouse     Manga  24 min per ep   \n",
              "3   Jul 3, 2002 to Dec 25, 2002  ...         Sunrise  Original  25 min per ep   \n",
              "4  Sep 30, 2004 to Sep 29, 2005  ...  Toei Animation     Manga  23 min per ep   \n",
              "\n",
              "                           Rating    Rank Popularity Favorites Scored By  \\\n",
              "0  R - 17+ (violence & profanity)    41.0         43     78525  914193.0   \n",
              "1  R - 17+ (violence & profanity)   189.0        602      1448  206248.0   \n",
              "2       PG-13 - Teens 13 or older   328.0        246     15035  356739.0   \n",
              "3       PG-13 - Teens 13 or older  2764.0       1795       613   42829.0   \n",
              "4                   PG - Children  4240.0       5126        14    6413.0   \n",
              "\n",
              "   Members                                          Image URL  \n",
              "0  1771505  https://cdn.myanimelist.net/images/anime/4/196...  \n",
              "1   360978  https://cdn.myanimelist.net/images/anime/1439/...  \n",
              "2   727252  https://cdn.myanimelist.net/images/anime/7/203...  \n",
              "3   111931  https://cdn.myanimelist.net/images/anime/10/19...  \n",
              "4    15001  https://cdn.myanimelist.net/images/anime/7/215...  \n",
              "\n",
              "[5 rows x 24 columns]"
            ]
          },
          "execution_count": 256,
          "metadata": {},
          "output_type": "execute_result"
        }
      ],
      "source": [
        "# データを読み込む\n",
        "import pandas as pd\n",
        "from pathlib import Path\n",
        "\n",
        "anime = pd.read_csv(Path(DATASET_PATH, \"anime-dataset-2023.csv\").resolve())\n",
        "anime.dropna()\n",
        "# データを表示\n",
        "anime.head()"
      ]
    },
    {
      "cell_type": "code",
      "execution_count": 257,
      "metadata": {},
      "outputs": [],
      "source": [
        "import random\n",
        "\n",
        "\n",
        "def random_index(list_length):\n",
        "    return random.randint(0, list_length - 1)"
      ]
    },
    {
      "cell_type": "code",
      "execution_count": 258,
      "metadata": {
        "colab": {
          "base_uri": "https://localhost:8080/",
          "height": 206
        },
        "id": "l4uga_M-4onQ",
        "outputId": "83a15f0b-61ec-4e9b-c21c-78157b4d4738"
      },
      "outputs": [
        {
          "data": {
            "text/html": [
              "<div>\n",
              "<style scoped>\n",
              "    .dataframe tbody tr th:only-of-type {\n",
              "        vertical-align: middle;\n",
              "    }\n",
              "\n",
              "    .dataframe tbody tr th {\n",
              "        vertical-align: top;\n",
              "    }\n",
              "\n",
              "    .dataframe thead th {\n",
              "        text-align: right;\n",
              "    }\n",
              "</style>\n",
              "<table border=\"1\" class=\"dataframe\">\n",
              "  <thead>\n",
              "    <tr style=\"text-align: right;\">\n",
              "      <th></th>\n",
              "      <th>English name</th>\n",
              "      <th>Genres</th>\n",
              "    </tr>\n",
              "  </thead>\n",
              "  <tbody>\n",
              "    <tr>\n",
              "      <th>0</th>\n",
              "      <td>Cowboy Bebop</td>\n",
              "      <td>Action</td>\n",
              "    </tr>\n",
              "    <tr>\n",
              "      <th>1</th>\n",
              "      <td>Cowboy Bebop: The Movie</td>\n",
              "      <td>Sci-Fi</td>\n",
              "    </tr>\n",
              "    <tr>\n",
              "      <th>2</th>\n",
              "      <td>Trigun</td>\n",
              "      <td>Adventure</td>\n",
              "    </tr>\n",
              "    <tr>\n",
              "      <th>3</th>\n",
              "      <td>Witch Hunter Robin</td>\n",
              "      <td>Mystery</td>\n",
              "    </tr>\n",
              "    <tr>\n",
              "      <th>4</th>\n",
              "      <td>Beet the Vandel Buster</td>\n",
              "      <td>Adventure</td>\n",
              "    </tr>\n",
              "  </tbody>\n",
              "</table>\n",
              "</div>"
            ],
            "text/plain": [
              "              English name     Genres\n",
              "0             Cowboy Bebop     Action\n",
              "1  Cowboy Bebop: The Movie     Sci-Fi\n",
              "2                   Trigun  Adventure\n",
              "3       Witch Hunter Robin    Mystery\n",
              "4   Beet the Vandel Buster  Adventure"
            ]
          },
          "execution_count": 258,
          "metadata": {},
          "output_type": "execute_result"
        }
      ],
      "source": [
        "# 学習に使う列\n",
        "LEARN_COLUMN = \"English name\"\n",
        "# データを整形する\n",
        "anime = anime[[LEARN_COLUMN, \"Genres\"]]\n",
        "\n",
        "# ジャンルを最初の１つだけにする\n",
        "anime[\"Genres\"] = anime[\"Genres\"].apply(\n",
        "    lambda x: x.split(\", \")[random_index(len(x.split(\", \")))]\n",
        ")\n",
        "\n",
        "# UNKNWONが含まれるカラムを表示\n",
        "anime[anime[\"Genres\"].str.contains(\"UNKNOWN\")]\n",
        "\n",
        "# LEARN_COLUMNに UNKNOWNを含む行を削除\n",
        "anime = anime[~anime[LEARN_COLUMN].str.contains(\"UNKNOWN\")]\n",
        "\n",
        "anime.head()"
      ]
    },
    {
      "cell_type": "code",
      "execution_count": 259,
      "metadata": {
        "colab": {
          "base_uri": "https://localhost:8080/"
        },
        "id": "hob9d3dBJgK4",
        "outputId": "11519b2c-2306-4199-b198-e8a5fcbc4dbd"
      },
      "outputs": [
        {
          "name": "stdout",
          "output_type": "stream",
          "text": [
            "genres_list = ['Action', 'Sci-Fi', 'Adventure', 'Mystery', 'Comedy', 'Suspense', 'Fantasy', 'Sports', 'Drama', 'Award Winning', 'Supernatural', 'Romance', 'Ecchi', 'Horror', 'Girls Love', 'Hentai', 'Slice of Life', 'Boys Love', 'Avant Garde', 'UNKNOWN', 'Erotica', 'Gourmet']\n",
            "n_genres = 22\n"
          ]
        }
      ],
      "source": [
        "# データの数などの情報を取得\n",
        "genres_list = list(anime.Genres.str.split(\", \").explode().unique())\n",
        "print(f\"genres_list = {genres_list}\")\n",
        "\n",
        "n_genres = len(genres_list)\n",
        "print(f\"n_genres = {n_genres}\")"
      ]
    },
    {
      "cell_type": "code",
      "execution_count": 260,
      "metadata": {},
      "outputs": [
        {
          "data": {
            "image/png": "[encoded data removed]",
            "text/plain": [
              "<Figure size 2000x1000 with 1 Axes>"
            ]
          },
          "metadata": {},
          "output_type": "display_data"
        }
      ],
      "source": [
        "import matplotlib.pyplot as plt\n",
        "\n",
        "genre_dict = {name : 0 for name in genres_list}\n",
        "for genre in genres_list:\n",
        "    genre_dict[genre] = anime.Genres.str.contains(genre).astype(int).sum()\n",
        "\n",
        "# genre_dictを多い順にソートしたtuple\n",
        "sorted_genre_dict = sorted(genre_dict.items(), key=lambda x: x[1], reverse=True)\n",
        "# genre_dictをプロットする\n",
        "\n",
        "plt.figure(figsize=(20, 10))\n",
        "plt.bar(range(n_genres), [genre[1] for genre in sorted_genre_dict])\n",
        "plt.xticks(range(n_genres), [genre[0] for genre in sorted_genre_dict], rotation=90)\n",
        "plt.show()\n"
      ]
    },
    {
      "cell_type": "markdown",
      "metadata": {
        "id": "k5fT9KzopzG_"
      },
      "source": [
        "タイトルデータのテンソルへの変換\n",
        "--------------------------\n",
        "\n",
        "学習に使えるようにするため、タイトルデータをテンソルに変換します。\n",
        "\n"
      ]
    },
    {
      "cell_type": "markdown",
      "metadata": {
        "id": "wZyROtvY-Zh6"
      },
      "source": [
        "\n",
        "\n",
        "一つの文字は、`<1 x n_letters>`サイズの、 \"ワンホットベクトル \"を使って表現されます。\n",
        "\n",
        "ワンホットベクトルは、表現したい文字のインデックス（=位置）にのみ1が格納され、それ以外のインデックス（＝位置）は0で埋められたベクトルです。\n",
        "\n",
        "例えば、\"b\"という文字であれば、`\"b\" =<0 1 0 0 0 ...>`という形で表現します。\n",
        "\n",
        "（日本語訳注 ：\"b\"は、ローマ字では二番目の文字であるため、二番目のみ1でそれ以外は0のベクトルで表現されます。\"c\"なら、ローマ字の3番目なので、`\"c\" =<0 0 1 0 0 ...>`という形式で表現されます。）\n",
        "\n",
        "\n"
      ]
    },
    {
      "cell_type": "markdown",
      "metadata": {
        "id": "0fCHLObF-bpR"
      },
      "source": [
        "\n",
        "単語を作るためには、これらを2次元の行列 `<line_length x 1 x n_letters>` に結合します。\n",
        "\n",
        "（日本語訳注 ：例えば、\"abc\"という単語であれば、\n",
        "`\"abc\" =<1 0 0 0 0 ...>, <0 1 0 0 0 ...>, <0 0 1 0 0 ...>`のように表現されるイメージです。）\n",
        "\n",
        "<br>\n",
        "\n",
        "`line_length`と`n_letters`の間にある余分に見える1次元は、バッチサイズです。\n",
        "\n",
        "この次元は、PyTorchではデータをすべてバッチとして処理する仕様のため、必要となります。\n",
        "\n",
        "ここでは、バッチサイズは1としています。"
      ]
    },
    {
      "cell_type": "code",
      "execution_count": 261,
      "metadata": {
        "colab": {
          "base_uri": "https://localhost:8080/"
        },
        "id": "sgB2oy6vpzHB",
        "outputId": "862719ae-0754-4090-e2aa-3e568f668fa6"
      },
      "outputs": [
        {
          "name": "stdout",
          "output_type": "stream",
          "text": [
            "tensor([[0., 0., 0., 0., 0., 0., 0., 0., 0., 0., 0., 0., 0., 0., 0., 0., 0., 0.,\n",
            "         0., 0., 0., 0., 0., 0., 0., 0., 0., 0., 0., 0., 0., 0., 0., 0., 0., 1.,\n",
            "         0., 0., 0., 0., 0., 0., 0., 0., 0., 0., 0., 0., 0., 0., 0., 0., 0., 0.,\n",
            "         0., 0., 0.]], device='cuda:0')\n",
            "torch.Size([5, 1, 57])\n",
            "Cowboy Bebop\n",
            "torch.Size([12, 1, 57])\n"
          ]
        }
      ],
      "source": [
        "import string\n",
        "import torch\n",
        "\n",
        "all_letters = string.ascii_letters + \" .,;'\"\n",
        "n_letters = len(all_letters)\n",
        "\n",
        "# Find letter index from all_letters, e.g. \"a\" = 0\n",
        "def letterToIndex(letter):\n",
        "    return all_letters.find(letter)\n",
        "\n",
        "# Just for demonstration, turn a letter into a <1 x n_letters> Tensor\n",
        "def letterToTensor(letter):\n",
        "    tensor = torch.zeros(1, n_letters).to(device)\n",
        "    tensor[0][letterToIndex(letter)] = 1\n",
        "    return tensor\n",
        "\n",
        "# Turn a line into a <line_length x 1 x n_letters>,\n",
        "# or an array of one-hot letter vectors\n",
        "def lineToTensor(line):\n",
        "    tensor = torch.zeros(len(line), 1, n_letters).to(device)\n",
        "    for li, letter in enumerate(line):\n",
        "        tensor[li][0][letterToIndex(letter)] = 1\n",
        "    return tensor\n",
        "\n",
        "print(letterToTensor('J'))\n",
        "\n",
        "print(lineToTensor('Jones').size())\n",
        "\n",
        "print(anime[LEARN_COLUMN][0])\n",
        "print(lineToTensor(anime[LEARN_COLUMN][0]).size())"
      ]
    },
    {
      "cell_type": "markdown",
      "metadata": {
        "id": "eSQw5pn0pzHI"
      },
      "source": [
        "ネットワークの構築\n",
        "====================\n",
        "\n",
        "autograd（自動勾配計算モジュール）ができる前は、Torchでリカレント・ニューラルネットワークを作成する際には、学習ステップごとにネットワーク内のレイヤーのパラメータの情報を取得する必要がありました。\n",
        "\n",
        "以前はレイヤー側が隠れ状態や勾配の情報を保持しており、レイヤーごとにパラメータ更新の記述が必要だったためです。\n",
        "\n"
      ]
    },
    {
      "cell_type": "markdown",
      "metadata": {
        "id": "vibJ6DFk_FpL"
      },
      "source": [
        "しかし現在では、テンソルの計算グラフ自体が、隠れ状態や勾配の情報を全て保持しています。\n",
        "\n",
        "これは、RNNを非常に「シンプルな」方法で（=通常の順伝播モジュールとして）実装できることを意味します。\n",
        "\n",
        "このRNNモジュールは、inputデータと隠れ状態（hidden）に対し適用される2つの線形レイヤーと、出力の後にLogSoftmaxレイヤーがあるだけのものです（以下のコードはほとんどが、[the PyTorch for Torch users チュートリアル](https://pytorch.org/tutorials/beginner/former_torchies/nn_tutorial.html#example-2-recurrent-net)からコピー）。"
      ]
    },
    {
      "cell_type": "markdown",
      "metadata": {
        "id": "d9U5LrW-A3KA"
      },
      "source": [
        "![image.png](data:image/png;base64,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)"
      ]
    },
    {
      "cell_type": "code",
      "execution_count": 262,
      "metadata": {
        "id": "2fy_PUa-pzHJ"
      },
      "outputs": [],
      "source": [
        "import torch.nn as nn\n",
        "\n",
        "\n",
        "class RNN(nn.Module):\n",
        "    def __init__(self, input_size, hidden_size, output_size):\n",
        "        super(RNN, self).__init__()\n",
        "\n",
        "        self.hidden_size = hidden_size\n",
        "\n",
        "        self.i2h = nn.Linear(input_size + hidden_size, hidden_size)\n",
        "        self.i2o = nn.Linear(input_size + hidden_size, output_size)\n",
        "        self.softmax = nn.LogSoftmax(dim=1)\n",
        "\n",
        "    def forward(self, input, hidden):\n",
        "        combined = torch.cat((input, hidden), 1).to(device)\n",
        "        hidden = self.i2h(combined)\n",
        "        output = self.i2o(combined)\n",
        "        output = self.softmax(output)\n",
        "        return output, hidden\n",
        "\n",
        "    def initHidden(self):\n",
        "        return torch.zeros(1, self.hidden_size).to(device)\n",
        "\n",
        "\n",
        "n_hidden = 128\n",
        "rnn = RNN(n_letters, n_hidden, n_genres).to(device)"
      ]
    },
    {
      "cell_type": "markdown",
      "metadata": {
        "id": "QDJrphGupzHR"
      },
      "source": [
        "このネットワークのステップを実行するには、入力データ（ここでは、現在の文字のテンソル）と、一つ前の文字の隠れ状態（最初はゼロで初期化）を渡す必要があります。\n",
        "\n",
        "実際に実行すると、出力（各言語の確率）と、次のステップでの予測の際に与えるRNNの隠れ状態を取得することができます。"
      ]
    },
    {
      "cell_type": "code",
      "execution_count": 263,
      "metadata": {
        "id": "Ur3kLK4GpzHS"
      },
      "outputs": [],
      "source": [
        "input = letterToTensor('A')\n",
        "hidden =torch.zeros(1, n_hidden).to(device)\n",
        "\n",
        "output, next_hidden = rnn(input, hidden)"
      ]
    },
    {
      "cell_type": "markdown",
      "metadata": {
        "id": "3q0xSbiWpzHe"
      },
      "source": [
        "計算効率上、学習ステップごとに新しいテンソルを作成することは避けたいです。\n",
        "\n",
        "そこで`letterToTensor`の代わりに、`lineToTensor`を使用し、まず一度単語のテンソルを作成します。\n",
        "\n",
        "そしてスライスを使い、単語のテンソルから各文字のテンソルを取得します。\n",
        "\n",
        "さらに効率的にするために、単語ではなく、バッチのテンソルを事前に計算しておく方法もあります。"
      ]
    },
    {
      "cell_type": "code",
      "execution_count": 264,
      "metadata": {
        "colab": {
          "base_uri": "https://localhost:8080/"
        },
        "id": "BbszeqLVpzHg",
        "outputId": "8d48dde3-ad25-4302-9737-7629fd8e1984"
      },
      "outputs": [
        {
          "name": "stdout",
          "output_type": "stream",
          "text": [
            "tensor([[-2.9935, -3.0192, -3.0965, -3.1125, -3.0874, -3.0236, -3.1343, -3.1500,\n",
            "         -3.0987, -3.1394, -3.0875, -3.1231, -3.1349, -3.1030, -3.0709, -3.1781,\n",
            "         -3.0551, -3.0977, -3.0159, -3.0544, -3.1425, -3.1097]],\n",
            "       device='cuda:0', grad_fn=<LogSoftmaxBackward0>)\n"
          ]
        }
      ],
      "source": [
        "input = lineToTensor('Doraemon')\n",
        "hidden = torch.zeros(1, n_hidden).to(device)\n",
        "\n",
        "output, next_hidden = rnn(input[0], hidden)\n",
        "print(output)"
      ]
    },
    {
      "cell_type": "markdown",
      "metadata": {
        "id": "58cQSadTpzHo"
      },
      "source": [
        "ご覧のように、出力は`<1 x n_categories>`のテンソルとなり、各項目はそのカテゴリ（苗字の言語）に対する尤度です（0に近いほどそのカテゴリに属する可能性が高くなります）。"
      ]
    },
    {
      "cell_type": "markdown",
      "metadata": {
        "id": "7uh0DOOjpzHq"
      },
      "source": [
        "訓練\n",
        "========\n",
        "訓練の準備\n",
        "----------------------\n",
        "\n",
        "訓練に入る前に、いくつかの補助関数（ヘルパー関数）を作る必要があります。\n",
        "\n",
        "一つ目は、ネットワークの出力を解釈するための関数です。\n",
        "\n",
        "テンソルにおける最大値のインデックスを得るために`Tensor.topk`を使うことができます。\n",
        "\n",
        "\n",
        "\n"
      ]
    },
    {
      "cell_type": "code",
      "execution_count": 265,
      "metadata": {
        "colab": {
          "base_uri": "https://localhost:8080/"
        },
        "id": "DeAE-wVopzHs",
        "outputId": "18491a9f-3612-4018-b694-4d37d99b7d03"
      },
      "outputs": [
        {
          "name": "stdout",
          "output_type": "stream",
          "text": [
            "('Action', 0)\n"
          ]
        }
      ],
      "source": [
        "def categoryFromOutput(output):\n",
        "    top_n, top_i = output.topk(1)\n",
        "    category_i = top_i[0].item()\n",
        "    return genres_list[category_i], category_i\n",
        "\n",
        "print(categoryFromOutput(output))"
      ]
    },
    {
      "cell_type": "markdown",
      "metadata": {
        "id": "PBUXhu4OpzH0"
      },
      "source": [
        "また、訓練用にデータの具体例（苗字とその言語）を簡単に取得して、提示する関数もあると便利です。"
      ]
    },
    {
      "cell_type": "code",
      "execution_count": 266,
      "metadata": {
        "colab": {
          "base_uri": "https://localhost:8080/"
        },
        "id": "7C2GY2u1pzH1",
        "outputId": "8e6620f6-a828-4b0a-f6bc-00dbdf32905e"
      },
      "outputs": [
        {
          "name": "stdout",
          "output_type": "stream",
          "text": [
            "genre = Suspense / line = Puella Magi Madoka Magica\n",
            "tensor(5, device='cuda:0')\n",
            "torch.Size([25, 1, 57])\n",
            "genre = Suspense / line = My War\n",
            "tensor(5, device='cuda:0')\n",
            "torch.Size([6, 1, 57])\n",
            "genre = Ecchi / line = Pandora in the Crimson Shell\n",
            "tensor(12, device='cuda:0')\n",
            "torch.Size([28, 1, 57])\n",
            "genre = Mystery / line = Scissor Seven (2019)\n",
            "tensor(3, device='cuda:0')\n",
            "torch.Size([20, 1, 57])\n",
            "genre = Boys Love / line = Someone Else's BL Cartoon\n",
            "tensor(17, device='cuda:0')\n",
            "torch.Size([25, 1, 57])\n",
            "genre = Adventure / line = Digimon Tamers: Battle of Adventurers\n",
            "tensor(2, device='cuda:0')\n",
            "torch.Size([37, 1, 57])\n",
            "genre = Horror / line = Devilman: The Demon Bird\n",
            "tensor(13, device='cuda:0')\n",
            "torch.Size([24, 1, 57])\n",
            "genre = Sci-Fi / line = Skelter Heaven\n",
            "tensor(1, device='cuda:0')\n",
            "torch.Size([14, 1, 57])\n",
            "genre = Suspense / line = Hide-and-seek\n",
            "tensor(5, device='cuda:0')\n",
            "torch.Size([13, 1, 57])\n",
            "genre = Erotica / line = Who's the Daddy\n",
            "tensor(20, device='cuda:0')\n",
            "torch.Size([15, 1, 57])\n"
          ]
        }
      ],
      "source": [
        "import random\n",
        "\n",
        "def randomChoice(l):\n",
        "    return l[random.randint(0, len(l) - 1)]\n",
        "\n",
        "def randomTrainingExample():\n",
        "    genre = randomChoice(genres_list)\n",
        "    anime_titles = anime[anime['Genres'].str.contains(genre, case=False)][LEARN_COLUMN]\n",
        "\n",
        "    line = randomChoice(anime_titles.to_list())\n",
        "    genre_tensor = torch.tensor(genres_list.index(genre), dtype=torch.long).to(device)\n",
        "    line_tensor = lineToTensor(line).to(device)\n",
        "    return genre, line, genre_tensor, line_tensor\n",
        "\n",
        "\n",
        "for i in range(10):\n",
        "    genre, line, genre_tensor, line_tensor = randomTrainingExample()\n",
        "    print('genre =', genre, '/ line =', line)\n",
        "    print(genre_tensor)\n",
        "    print(line_tensor.size())\n"
      ]
    },
    {
      "cell_type": "markdown",
      "metadata": {
        "id": "lZAeeCgwpzH9"
      },
      "source": [
        "ネットワークの訓練\n",
        "----------------------\n",
        "\n",
        "このネットワークの訓練に必要なプロセスは、多くの正解付きデータ（アノテーション付きの教師データ）を入力して推論させ、推論結果の良否をフィードバックすることです。\n",
        "\n",
        "RNNの最後の層は`nn.LogSoftmax`なので、対応する損失関数は`nn.NLLLoss`となります。"
      ]
    },
    {
      "cell_type": "code",
      "execution_count": 267,
      "metadata": {
        "id": "GNiw9irJpzH_"
      },
      "outputs": [],
      "source": [
        "criterion = nn.NLLLoss()"
      ]
    },
    {
      "cell_type": "markdown",
      "metadata": {
        "id": "oI01-cVWpzIG"
      },
      "source": [
        "訓練のループは以下に示す順番で進みます。\n",
        "\n",
        "- 入力テンソルと正解テンソルを作成\n",
        "- 初期の隠れ状態（値はゼロ）の作成\n",
        "- それぞれの文字を読み込み、\n",
        "  - 次の文字のために隠れ状態を保持\n",
        "- 最終出力を正解と比較\n",
        "- 誤差逆伝播\n",
        "- 出力と損失を返す"
      ]
    },
    {
      "cell_type": "code",
      "execution_count": 268,
      "metadata": {
        "id": "6b7olM4hpzII"
      },
      "outputs": [],
      "source": [
        "import torch.optim as optim\n",
        "from torch.nn.parameter import Parameter\n",
        "\n",
        "\n",
        "learning_rate = (\n",
        "    0.005  # If you set this too high, it might explode. If too low, it might not learn\n",
        ")\n",
        "\n",
        "# オプティマイザを定義（例：SGDオプティマイザ）\n",
        "optimizer = optim.SGD(rnn.parameters(), lr=learning_rate)\n",
        "\n",
        "# オプティマイザを定義（例：SGDオプティマイザ）\n",
        "\n",
        "\n",
        "def train(category_tensor, line_tensor):\n",
        "    hidden = rnn.initHidden()\n",
        "\n",
        "    rnn.zero_grad()\n",
        "\n",
        "    for i in range(line_tensor.size()[0]):\n",
        "        output, hidden = rnn(line_tensor[i], hidden)\n",
        "    category_tensor = (\n",
        "        category_tensor.view(1).type(torch.LongTensor).to(device)\n",
        "    )  # バッチサイズ1の整数型テンソルに変換\n",
        "\n",
        "    loss = criterion(output, category_tensor)\n",
        "    loss.backward()\n",
        "\n",
        "    # Add parameters' gradients to their values, multiplied by learning rate\n",
        "    # for p in rnn.parameters():\n",
        "    #     if p is None:\n",
        "    #         continue\n",
        "    #     elif not isinstance(p.data, Parameter):\n",
        "    #         continue\n",
        "    #     else:\n",
        "    #         p.data.add_(p.grad.data, alpha=-learning_rate)\n",
        "    # 勾配がNoneでないことを確認するデバッグ出力\n",
        "    # for p in rnn.parameters():\n",
        "    #     if p.grad is None:\n",
        "    #         print(f\"Parameter {p} has no gradient.\")\n",
        "    #     else:\n",
        "    #         print(f\"Parameter {p} gradient size: {p.grad.size()}\")\n",
        "\n",
        "    # オプティマイザでパラメータを更新する\n",
        "    optimizer.step()\n",
        "\n",
        "    return output, loss.item()"
      ]
    },
    {
      "cell_type": "markdown",
      "metadata": {
        "id": "MhllMzCPpzIR"
      },
      "source": [
        "あとは、大量のサンプルデータを使用して訓練ループを実行するだけです。\n",
        "\n",
        "`train`関数は出力と損失の両方を返すので、推論結果を表示したり、プロットするために損失を求めることができます。\n",
        "\n",
        "数千のデータがあるので、`print_every`で、指定したイテレーションごとに損失の平均を求め、print文で出力します。"
      ]
    },
    {
      "cell_type": "code",
      "execution_count": 269,
      "metadata": {},
      "outputs": [],
      "source": [
        "import torch"
      ]
    },
    {
      "cell_type": "code",
      "execution_count": 270,
      "metadata": {
        "colab": {
          "base_uri": "https://localhost:8080/",
          "height": 386
        },
        "id": "WtCdvYwEpzIX",
        "outputId": "92c9fd98-3f04-4dc8-bf71-95d663de5b72"
      },
      "outputs": [
        {
          "name": "stdout",
          "output_type": "stream",
          "text": [
            "5000 5.0% (1m 12s) 3.0753 Salaryman's Club / Action ✗ (Sports)\n",
            "10000 10.0% (2m 19s) 3.0789 Manga Fairy Tales of the World / Ecchi ✗ (Drama)\n",
            "15000 15.0% (3m 36s) 2.9287 Restaurant to Another World / Ecchi ✗ (Gourmet)\n",
            "20000 20.0% (4m 50s) 2.9589 Hurricane Polymar: Holy Blood / Boys Love ✗ (Sci-Fi)\n",
            "25000 25.0% (5m 58s) 3.1559 Captain Tsubasa / Gourmet ✗ (Sports)\n",
            "30000 30.0% (7m 13s) nan The Man Who Has Changed the History: A Drannage of Lake Biwa / Action ✗ (UNKNOWN)\n",
            "35000 35.0% (8m 28s) nan Hitorijime My Hero / Action ✗ (Boys Love)\n",
            "40000 40.0% (9m 38s) nan Isekai Izakaya: Japanese Food From Another World / Action ✗ (Gourmet)\n",
            "45000 45.0% (10m 49s) nan K / Action ✗ (Mystery)\n",
            "50000 50.0% (12m 12s) nan Life of Falling / Action ✗ (Supernatural)\n",
            "55000 55.00000000000001% (13m 29s) nan Galaxy Lightway / Action ✗ (Sci-Fi)\n",
            "60000 60.0% (14m 44s) nan Who's the Daddy / Action ✗ (Erotica)\n",
            "65000 65.0% (16m 2s) nan Undetectable Box / Action ✗ (Suspense)\n",
            "70000 70.0% (17m 7s) nan Baki Hanma 2nd Season / Action ✗ (Sports)\n",
            "75000 75.0% (18m 28s) nan By the Grace of the Gods 2 / Action ✗ (Slice of Life)\n",
            "80000 80.0% (19m 31s) nan Talentless Nana / Action ✗ (Suspense)\n",
            "85000 85.0% (20m 48s) nan Heartful Maman The Animation / Action ✗ (Hentai)\n",
            "90000 90.0% (22m 15s) nan If I See You in My Dreams / Action ✗ (Ecchi)\n",
            "95000 95.0% (23m 26s) nan Tawawa on Monday 2: Episode 13 / Action ✗ (Slice of Life)\n",
            "100000 100.0% (24m 34s) nan WorldEnd: What do you do at the end of the world? Are you busy? Will you save us? / Action ✗ (Sci-Fi)\n"
          ]
        }
      ],
      "source": [
        "import time\n",
        "import math\n",
        "\n",
        "# テスト用\n",
        "# n_iters = 1000\n",
        "# print_every = 100\n",
        "# plot_every = 100\n",
        "n_iters = 100000\n",
        "print_every = 5000\n",
        "plot_every = 1000\n",
        "\n",
        "\n",
        "# Keep track of losses for plotting\n",
        "\n",
        "\n",
        "def timeSince(since):\n",
        "    now = time.time()\n",
        "    s = now - since\n",
        "    m = math.floor(s / 60)\n",
        "    s -= m * 60\n",
        "    return \"%dm %ds\" % (m, s)\n",
        "\n",
        "\n",
        "start = time.time()\n",
        "\n",
        "\n",
        "def train_model(retrain=False):\n",
        "    current_loss = 0\n",
        "    all_losses = []\n",
        "\n",
        "    # 訓練済みのモデルがあればそれを返す\n",
        "    if os.path.exists(\"rnn.pth\") and not retrain:\n",
        "        print(\"model exists\")\n",
        "        # モデルを保存\n",
        "        model = RNN(n_letters, n_hidden, n_genres).to(device)\n",
        "        model.load_state_dict(torch.load(\"rnn.pth\"))\n",
        "\n",
        "        # all_lossesを保存\n",
        "        all_losses = torch.load(\"all_losses.pth\")\n",
        "        return model, all_losses\n",
        "    for iter in range(1, n_iters + 1):\n",
        "        category, line, category_tensor, line_tensor = randomTrainingExample()\n",
        "\n",
        "        output, loss = train(category_tensor, line_tensor)\n",
        "        current_loss += loss\n",
        "\n",
        "        # Print iter number, loss, name and guess\n",
        "        if iter % print_every == 0:\n",
        "            guess, guess_i = categoryFromOutput(output)\n",
        "            correct = \"✓\" if guess == category else \"✗ (%s)\" % category\n",
        "            average_loss = current_loss / plot_every\n",
        "            print(\n",
        "                f\"{iter} {iter / n_iters * 100}% ({timeSince(start)}) {average_loss:.4f} {line} / {guess} {correct}\"\n",
        "            )\n",
        "\n",
        "        # Add current loss avg to list of losses\n",
        "        if iter % plot_every == 0:\n",
        "            all_losses.append(current_loss / plot_every)\n",
        "            current_loss = 0\n",
        "    # 作成したモデルを保存\n",
        "    torch.save(rnn.state_dict(), \"rnn.pth\")\n",
        "    # all_lossesを保存\n",
        "    torch.save(all_losses, \"all_losses.pth\")\n",
        "    return rnn, all_losses\n",
        "\n",
        "\n",
        "trained_rnn, all_losses = train_model(retrain=True)"
      ]
    },
    {
      "cell_type": "markdown",
      "metadata": {
        "id": "hgyOvpDepzIe"
      },
      "source": [
        "結果のプロット\n",
        "--------------------\n",
        "\n",
        "`all_losses`から過去の損失をプロットすると、ネットワーク学習の様子がわかります"
      ]
    },
    {
      "cell_type": "code",
      "execution_count": 271,
      "metadata": {
        "colab": {
          "base_uri": "https://localhost:8080/",
          "height": 448
        },
        "id": "zFlvEC3UpzIg",
        "outputId": "433fb9d7-106b-4b21-e4c3-95362e57248c"
      },
      "outputs": [
        {
          "data": {
            "text/plain": [
              "[<matplotlib.lines.Line2D at 0x7f841b081be0>]"
            ]
          },
          "execution_count": 271,
          "metadata": {},
          "output_type": "execute_result"
        },
        {
          "data": {
            "image/png": "[encoded data removed]",
            "text/plain": [
              "<Figure size 640x480 with 1 Axes>"
            ]
          },
          "metadata": {},
          "output_type": "display_data"
        }
      ],
      "source": [
        "import matplotlib.pyplot as plt\n",
        "import matplotlib.ticker as ticker\n",
        "\n",
        "plt.figure()\n",
        "plt.plot(all_losses)"
      ]
    },
    {
      "cell_type": "markdown",
      "metadata": {
        "id": "KMuLT7UJpzIl"
      },
      "source": [
        "結果の評価\n",
        "======================\n",
        "\n",
        "ネットワークが各カテゴリ（言語）に対して、どの程度の性能を発揮しているのかを確認するために、実際の言語（=行）ごとに、ネットワークの推論結果がどの言語だったのか（列）を示す、混同行列（confusion matrix）を作成します。\n",
        "\n",
        "混同行列を計算するために、`evaluate()`関数を用いて多くのサンプルを入力としてネットワークを実行しますが、この`evaluate()`関数は、逆伝播を実行しない`train()`関数と同義です。\n"
      ]
    },
    {
      "cell_type": "code",
      "execution_count": 272,
      "metadata": {},
      "outputs": [
        {
          "name": "stdout",
          "output_type": "stream",
          "text": [
            "1.26.4\n"
          ]
        }
      ],
      "source": [
        "import numpy as np\n",
        "# バージョン\n",
        "print(np.__version__)"
      ]
    },
    {
      "cell_type": "code",
      "execution_count": 273,
      "metadata": {
        "colab": {
          "base_uri": "https://localhost:8080/",
          "height": 579
        },
        "id": "NBQblphOpzIm",
        "outputId": "6b56434a-619d-40fe-8fc9-18d5bf5aad3e"
      },
      "outputs": [
        {
          "name": "stderr",
          "output_type": "stream",
          "text": [
            "/tmp/ipykernel_25020/766758957.py:33: UserWarning: set_ticklabels() should only be used with a fixed number of ticks, i.e. after set_ticks() or using a FixedLocator.\n",
            "  ax.set_xticklabels([''] + genres_list, rotation=90)\n",
            "/tmp/ipykernel_25020/766758957.py:34: UserWarning: set_ticklabels() should only be used with a fixed number of ticks, i.e. after set_ticks() or using a FixedLocator.\n",
            "  ax.set_yticklabels([''] + genres_list)\n"
          ]
        },
        {
          "data": {
            "image/png": "[encoded data removed]",
            "text/plain": [
              "<Figure size 640x480 with 2 Axes>"
            ]
          },
          "metadata": {},
          "output_type": "display_data"
        }
      ],
      "source": [
        "# Keep track of correct guesses in a confusion matrix\n",
        "confusion = torch.zeros(n_genres, n_genres).to(device)\n",
        "n_confusion = 10000\n",
        "\n",
        "# Just return an output given a line\n",
        "def evaluate(line_tensor):\n",
        "    hidden = trained_rnn.initHidden()\n",
        "\n",
        "    for i in range(line_tensor.size()[0]):\n",
        "        output, hidden = trained_rnn(line_tensor[i], hidden)\n",
        "\n",
        "    return output\n",
        "\n",
        "# Go through a bunch of examples and record which are correctly guessed\n",
        "for i in range(n_confusion):\n",
        "    category, line, category_tensor, line_tensor = randomTrainingExample()\n",
        "    output = evaluate(line_tensor)\n",
        "    guess, guess_i = categoryFromOutput(output)\n",
        "    category_i = genres_list.index(category)\n",
        "    confusion[category_i][guess_i] += 1\n",
        "\n",
        "# Normalize by dividing every row by its sum\n",
        "for i in range(n_genres):\n",
        "    confusion[i] = confusion[i] / confusion[i].sum()\n",
        "\n",
        "# Set up plot\n",
        "fig = plt.figure()\n",
        "ax = fig.add_subplot(111)\n",
        "cax = ax.matshow(confusion.cpu().numpy())\n",
        "fig.colorbar(cax)\n",
        "\n",
        "# Set up axes\n",
        "ax.set_xticklabels([''] + genres_list, rotation=90)\n",
        "ax.set_yticklabels([''] + genres_list)\n",
        "\n",
        "# Force label at every tick\n",
        "ax.xaxis.set_major_locator(ticker.MultipleLocator(1))\n",
        "ax.yaxis.set_major_locator(ticker.MultipleLocator(1))\n",
        "\n",
        "# sphinx_gallery_thumbnail_number = 2\n",
        "plt.show()"
      ]
    },
    {
      "cell_type": "markdown",
      "metadata": {
        "id": "Vtqgpbi_pzIu"
      },
      "source": [
        "斜めの軸の点の明るさから、どの言語で推測結果に間違いが多いか分かります\n",
        "\n",
        "（日本語訳注：点が暗いほどその言語に対する予測結果は間違いが多く、明るいほど正解が多いことを示しています）。\n",
        "\n",
        "例えば、ギリシャ語では非常に良く、英語では非常に悪いようです（これはおそらく、英語の苗字は他の言語との重複が多いためでしょう）。"
      ]
    },
    {
      "cell_type": "markdown",
      "metadata": {
        "id": "kiw-xW2cpzIw"
      },
      "source": [
        "ユーザーが入力した苗字に対する推論実行\n",
        "---------------------\n",
        "\n",
        "\n"
      ]
    },
    {
      "cell_type": "code",
      "execution_count": 274,
      "metadata": {
        "colab": {
          "base_uri": "https://localhost:8080/"
        },
        "id": "dRX3HAOPpzIz",
        "outputId": "6e8e6232-f4fd-41fc-887e-658db06b368b"
      },
      "outputs": [],
      "source": [
        "def predict(input_line, n_predictions=3):\n",
        "    print(\"\\n> %s\" % input_line)\n",
        "    with torch.no_grad():\n",
        "        output = evaluate(lineToTensor(input_line))\n",
        "\n",
        "        # Get top N categories\n",
        "        topv, topi = output.topk(n_predictions, 1, True)\n",
        "        predictions = []\n",
        "\n",
        "        for i in range(n_predictions):\n",
        "            value = topv[0][i].item()\n",
        "            category_index = topi[0][i].item()\n",
        "            print(\"(%.2f) %s\" % (value, genres_list[category_index]))\n",
        "            predictions.append([value, genres_list[category_index]])"
      ]
    },
    {
      "cell_type": "code",
      "execution_count": 276,
      "metadata": {
        "colab": {
          "base_uri": "https://localhost:8080/"
        },
        "id": "Mu565CeSDOl0",
        "outputId": "06a51a48-16bc-4386-8c17-4822d2f751cf"
      },
      "outputs": [
        {
          "name": "stdout",
          "output_type": "stream",
          "text": [
            "\n",
            "> Alice in Wonderland\n",
            "(nan) Adventure\n",
            "(nan) Sci-Fi\n",
            "(nan) Action\n",
            "\n",
            "> Hero\n",
            "(nan) Adventure\n",
            "(nan) Sci-Fi\n",
            "(nan) Action\n"
          ]
        }
      ],
      "source": [
        "# 日本語訳追記：[1] 上記の結果は実行の度に変わります。[2] 今回は検証のデータセットを用意していないので、過学習する恐れがあります。\n",
        "\n",
        "# 田中で試す\n",
        "predict(\"Alice in Wonderland\")\n",
        "predict(\"Hero\")"
      ]
    },
    {
      "cell_type": "markdown",
      "metadata": {
        "id": "mf1hmfSCpzI_"
      },
      "source": [
        "[in the Practical PyTorch repo](https://github.com/spro/practical-pytorch/tree/master/char-rnn-classification)にあるスクリプトの最終バージョンでは、上記のコードをいくつかのファイルに分割しています。\n",
        "\n",
        "- `data.py` (データファイルのロード)\n",
        "- `model.py` (RNNの定義)\n",
        "- `train.py` (トレーニングの実行)\n",
        "- `predict.py` (コマンドライン引数で `predict()` の実行)\n",
        "- `server.py` (bottle.pyを用いたJSON APIとしての推論結果提供)\n",
        "\n",
        "ネットワークを訓練して保存するには `train.py` を実行してください。\n",
        "\n",
        "予測結果を表示するには、名前を付けて `predict.py` を実行してください。\n",
        "\n",
        "```:cmd\n",
        "    $ python predict.py Hazaki\n",
        "    (-0.42) Japanese\n",
        "    (-1.39) Polish\n",
        "    (-3.51) Czech\n",
        "```\n",
        "\n",
        "`server.py`を実行し、 http://localhost:5533/Yournameto にアクセスして予測結果のJSONを取得してください。\n",
        "\n"
      ]
    },
    {
      "cell_type": "markdown",
      "metadata": {
        "id": "NAiefSPTpzJA"
      },
      "source": [
        "演習\n",
        "=========\n",
        "\n",
        "- 本チュートリアルで使ったデータとは異なる、行 -> カテゴリ を判定するデータセットで試してみてください。例えば、以下などです。\n",
        "\n",
        "   - 任意の単語 -> 言語\n",
        "   - 下の名前 -> 性別\n",
        "   - キャラクター名 -> 著者\n",
        "   - ページタイトル -> ブログまたはウェブページ\n",
        "\n",
        "- ネットワークを大きくしたり、またはネットワークの構造を改善したりして、さらに良い結果を目指してください。例えば、以下のような改善が考えられます。\n",
        "\n",
        "   - より多くの線形レイヤーを追加\n",
        "   - `nn.LSTM` と `nn.GRU` のレイヤーを試す\n",
        "   - 上記のような複数の`RNN`を、組み合わせた高次元のネットワークを試す\n",
        "\n"
      ]
    }
  ],
  "metadata": {
    "colab": {
      "provenance": []
    },
    "kernelspec": {
      "display_name": "Python 3 (ipykernel)",
      "language": "python",
      "name": "python3"
    },
    "language_info": {
      "codemirror_mode": {
        "name": "ipython",
        "version": 3
      },
      "file_extension": ".py",
      "mimetype": "text/x-python",
      "name": "python",
      "nbconvert_exporter": "python",
      "pygments_lexer": "ipython3",
      "version": "3.9.19"
    }
  },
  "nbformat": 4,
  "nbformat_minor": 0
}
